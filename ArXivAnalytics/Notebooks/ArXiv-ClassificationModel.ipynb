{
 "cells": [
  {
   "cell_type": "markdown",
   "metadata": {},
   "source": [
    "## Install .NET for Apache Spark & ML.NET NuGet packages"
   ]
  },
  {
   "cell_type": "code",
   "execution_count": 3,
   "metadata": {},
   "outputs": [
    {
     "data": {
      "text/plain": [
       "Installed package Microsoft.ML.AutoML version 0.17.2"
      ]
     },
     "metadata": {},
     "output_type": "display_data"
    }
   ],
   "source": [
    "#r \"nuget:Microsoft.Spark,0.12.1\"\n",
    "#r \"nuget:Microsoft.ML,1.5.2\"\n",
    "#r \"nuget:Microsoft.ML.AutoML,0.17.2\""
   ]
  },
  {
   "cell_type": "markdown",
   "metadata": {},
   "source": [
    "## Import packages"
   ]
  },
  {
   "cell_type": "code",
   "execution_count": 5,
   "metadata": {},
   "outputs": [],
   "source": [
    "open Microsoft.Spark\n",
    "open Microsoft.Spark.Sql\n",
    "open Microsoft.ML\n",
    "open Microsoft.ML.AutoML"
   ]
  },
  {
   "cell_type": "markdown",
   "metadata": {},
   "source": [
    "## Define data directory"
   ]
  },
  {
   "cell_type": "code",
   "execution_count": 6,
   "metadata": {},
   "outputs": [],
   "source": [
    "let DATA_DIR = \"/datadrive/Data/Kaggle/arxiv-metadata-oai-snapshot-2020-08-14.json\""
   ]
  },
  {
   "cell_type": "markdown",
   "metadata": {},
   "source": [
    "## Initialize SparkSession"
   ]
  },
  {
   "cell_type": "code",
   "execution_count": 7,
   "metadata": {},
   "outputs": [
    {
     "name": "stdout",
     "output_type": "stream",
     "text": [
      "[2020-10-26T14:14:34.8833965Z] [fsharp-analytics-vm] [Info] [ConfigurationService] 'DOTNETBACKEND_PORT' environment variable is not set.\n",
      "[2020-10-26T14:14:34.8855541Z] [fsharp-analytics-vm] [Info] [ConfigurationService] Using port 5567 for connection.\n",
      "[2020-10-26T14:14:34.8863004Z] [fsharp-analytics-vm] [Info] [JvmBridge] JvMBridge port is 5567\n"
     ]
    }
   ],
   "source": [
    "let sparkSession = \n",
    "    SparkSession\n",
    "        .Builder()\n",
    "        .AppName(\"arxiv-analytics\")\n",
    "        .GetOrCreate()"
   ]
  },
  {
   "cell_type": "markdown",
   "metadata": {},
   "source": [
    "## Load data into DataFrame"
   ]
  },
  {
   "cell_type": "code",
   "execution_count": 8,
   "metadata": {},
   "outputs": [],
   "source": [
    "let arxivData = \n",
    "    sparkSession\n",
    "        .Read()\n",
    "        .Option(\"inferSchema\",true)\n",
    "        .Json([|DATA_DIR|])"
   ]
  },
  {
   "cell_type": "markdown",
   "metadata": {},
   "source": [
    "## Inspect original DataFrame schema"
   ]
  },
  {
   "cell_type": "code",
   "execution_count": 9,
   "metadata": {},
   "outputs": [
    {
     "name": "stdout",
     "output_type": "stream",
     "text": [
      "root\n",
      " |-- abstract: string (nullable = true)\n",
      " |-- authors: string (nullable = true)\n",
      " |-- authors_parsed: array (nullable = true)\n",
      " |    |-- element: array (containsNull = true)\n",
      " |    |    |-- element: string (containsNull = true)\n",
      " |-- categories: string (nullable = true)\n",
      " |-- comments: string (nullable = true)\n",
      " |-- doi: string (nullable = true)\n",
      " |-- id: string (nullable = true)\n",
      " |-- journal-ref: string (nullable = true)\n",
      " |-- license: string (nullable = true)\n",
      " |-- report-no: string (nullable = true)\n",
      " |-- submitter: string (nullable = true)\n",
      " |-- title: string (nullable = true)\n",
      " |-- update_date: string (nullable = true)\n",
      " |-- versions: array (nullable = true)\n",
      " |    |-- element: struct (containsNull = true)\n",
      " |    |    |-- created: string (nullable = true)\n",
      " |    |    |-- version: string (nullable = true)\n",
      "\n"
     ]
    }
   ],
   "source": [
    "arxivData.PrintSchema()"
   ]
  },
  {
   "cell_type": "markdown",
   "metadata": {},
   "source": [
    "## Select a subset of columns"
   ]
  },
  {
   "cell_type": "code",
   "execution_count": 13,
   "metadata": {},
   "outputs": [],
   "source": [
    "let columnNames = \n",
    "    [|\n",
    "        Functions.Col(\"id\")\n",
    "        Functions.Col(\"title\")\n",
    "        Functions.Col(\"abstract\")\n",
    "        Functions.Col(\"categories\")\n",
    "    |]"
   ]
  },
  {
   "cell_type": "code",
   "execution_count": 14,
   "metadata": {},
   "outputs": [],
   "source": [
    "let dfSubset = \n",
    "    arxivData\n",
    "        .Select(columnNames)"
   ]
  },
  {
   "cell_type": "code",
   "execution_count": 15,
   "metadata": {},
   "outputs": [
    {
     "name": "stdout",
     "output_type": "stream",
     "text": [
      "+---------+--------------------+--------------------+--------------+\n",
      "|       id|               title|            abstract|    categories|\n",
      "+---------+--------------------+--------------------+--------------+\n",
      "|0704.0001|Calculation of pr...|  A fully differe...|        hep-ph|\n",
      "|0704.0002|Sparsity-certifyi...|  We describe a n...| math.CO cs.CG|\n",
      "|0704.0003|The evolution of ...|  The evolution o...|physics.gen-ph|\n",
      "+---------+--------------------+--------------------+--------------+\n",
      "only showing top 3 rows\n",
      "\n"
     ]
    }
   ],
   "source": [
    "dfSubset.Show(3)"
   ]
  },
  {
   "cell_type": "markdown",
   "metadata": {},
   "source": [
    "## Get only top level category"
   ]
  },
  {
   "cell_type": "code",
   "execution_count": 23,
   "metadata": {},
   "outputs": [],
   "source": [
    "let multipleCategorySelection = \n",
    "    Functions.Split(Functions.Col(\"categories\"), \" \").GetItem(0)\n",
    "\n",
    "let subcategorySelection = \n",
    "    Functions.Split(Functions.Col(\"categories\"),\"\\.\").GetItem(0)"
   ]
  },
  {
   "cell_type": "code",
   "execution_count": 24,
   "metadata": {},
   "outputs": [],
   "source": [
    "let topLevelCategoryDf = \n",
    "    dfSubset\n",
    "        .WithColumn(\"categories\",multipleCategorySelection)\n",
    "        .WithColumn(\"categories\",subcategorySelection)"
   ]
  },
  {
   "cell_type": "code",
   "execution_count": 25,
   "metadata": {},
   "outputs": [
    {
     "name": "stdout",
     "output_type": "stream",
     "text": [
      "+---------+--------------------+--------------------+----------+\n",
      "|       id|               title|            abstract|categories|\n",
      "+---------+--------------------+--------------------+----------+\n",
      "|0704.0001|Calculation of pr...|  A fully differe...|    hep-ph|\n",
      "|0704.0002|Sparsity-certifyi...|  We describe a n...|      math|\n",
      "|0704.0003|The evolution of ...|  The evolution o...|   physics|\n",
      "+---------+--------------------+--------------------+----------+\n",
      "only showing top 3 rows\n",
      "\n"
     ]
    }
   ],
   "source": [
    "topLevelCategoryDf.Show(3)"
   ]
  },
  {
   "cell_type": "markdown",
   "metadata": {},
   "source": [
    "## Drop duplicates"
   ]
  },
  {
   "cell_type": "code",
   "execution_count": 31,
   "metadata": {},
   "outputs": [
    {
     "name": "stdout",
     "output_type": "stream",
     "text": [
      "+---------+\n",
      "|count(id)|\n",
      "+---------+\n",
      "|  1747307|\n",
      "+---------+\n",
      "\n"
     ]
    }
   ],
   "source": [
    "// original article count\n",
    "topLevelCategoryDf\n",
    "    .Agg(Functions.Count(Functions.Col(\"id\")))\n",
    "    .Show()"
   ]
  },
  {
   "cell_type": "code",
   "execution_count": 39,
   "metadata": {},
   "outputs": [],
   "source": [
    "let distinctTopLevelCategoryDf = \n",
    "    topLevelCategoryDf\n",
    "        .DropDuplicates(\"id\")\n",
    "        .Drop(Functions.Col(\"id\"))"
   ]
  },
  {
   "cell_type": "code",
   "execution_count": 40,
   "metadata": {},
   "outputs": [
    {
     "name": "stdout",
     "output_type": "stream",
     "text": [
      "+--------------------+--------------------+----------+\n",
      "|               title|            abstract|categories|\n",
      "+--------------------+--------------------+----------+\n",
      "|Binary Systems as...|  We review the g...|     gr-qc|\n",
      "|Cosmology from St...|  We explore the ...|    hep-ph|\n",
      "|Domain Switching ...|  We investigated...|  cond-mat|\n",
      "+--------------------+--------------------+----------+\n",
      "only showing top 3 rows\n",
      "\n"
     ]
    }
   ],
   "source": [
    "distinctTopLevelCategoryDf.Show(3)"
   ]
  },
  {
   "cell_type": "markdown",
   "metadata": {},
   "source": [
    "## Output cleaned results to files"
   ]
  },
  {
   "cell_type": "code",
   "execution_count": 43,
   "metadata": {},
   "outputs": [],
   "source": [
    "let outputDir = \"/datadrive/Data/ArXivSparkOutput\""
   ]
  },
  {
   "cell_type": "code",
   "execution_count": 51,
   "metadata": {},
   "outputs": [],
   "source": [
    "distinctTopLevelCategoryDf\n",
    "    .Coalesce(1)\n",
    "    .Write()\n",
    "    .Mode(\"overwrite\")\n",
    "    .Option(\"header\", true)\n",
    "    .Csv(outputDir)"
   ]
  },
  {
   "cell_type": "markdown",
   "metadata": {},
   "source": [
    "## Define paths and variables"
   ]
  },
  {
   "cell_type": "code",
   "execution_count": 54,
   "metadata": {},
   "outputs": [],
   "source": [
    "let trainDataFile = \"/datadrive/Data/ArXivTrainData/traindata.csv\"\n",
    "let labelColumnName = \"categories\""
   ]
  },
  {
   "cell_type": "markdown",
   "metadata": {},
   "source": [
    "## Initialize MLContext"
   ]
  },
  {
   "cell_type": "code",
   "execution_count": 53,
   "metadata": {},
   "outputs": [],
   "source": [
    "let mlContext = MLContext()"
   ]
  },
  {
   "cell_type": "code",
   "execution_count": 61,
   "metadata": {},
   "outputs": [
    {
     "name": "stderr",
     "output_type": "stream",
     "text": [
      "Stopped due to error\n",
      "\n",
      "input.fsx (1,20)-(1,86) typecheck error No overloads match for method 'InferColumns'.\n",
      "\n",
      "Known types of arguments: string * string * bool\n",
      "\n",
      "Available overloads:\n",
      " - AutoCatalog.InferColumns(path: string, columnInformation: ColumnInformation,?separatorChar: Nullable<char>,?allowQuoting: Nullable<bool>,?allowSparse: Nullable<bool>,?trimWhitespace: bool,?groupColumns: bool) : ColumnInferenceResults // Argument 'columnInformation' doesn't match\n",
      " - AutoCatalog.InferColumns(path: string, labelColumnIndex: uint32,?hasHeader: bool,?separatorChar: Nullable<char>,?allowQuoting: Nullable<bool>,?allowSparse: Nullable<bool>,?trimWhitespace: bool,?groupColumns: bool) : ColumnInferenceResults // Argument 'labelColumnIndex' doesn't match\n",
      " - AutoCatalog.InferColumns(path: string,?labelColumnName: string,?separatorChar: Nullable<char>,?allowQuoting: Nullable<bool>,?allowSparse: Nullable<bool>,?trimWhitespace: bool,?groupColumns: bool) : ColumnInferenceResults // Argument 'separatorChar' doesn't match\n",
      "\n"
     ]
    },
    {
     "ename": "Cell not executed",
     "evalue": "compilation error",
     "output_type": "error",
     "traceback": []
    }
   ],
   "source": [
    "let colInference = mlContext.Auto().InferColumns(trainDataFile,labelColumnName=labelColumnName,separatorChar=',',allowQuoting=)"
   ]
  }
 ],
 "metadata": {
  "kernelspec": {
   "display_name": ".NET (F#)",
   "language": "F#",
   "name": ".net-fsharp"
  },
  "language_info": {
   "file_extension": ".fs",
   "mimetype": "text/x-fsharp",
   "name": "C#",
   "pygments_lexer": "fsharp",
   "version": "4.5"
  }
 },
 "nbformat": 4,
 "nbformat_minor": 4
}
