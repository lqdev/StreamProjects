{
 "cells": [
  {
   "cell_type": "markdown",
   "metadata": {},
   "source": [
    "## Install .NET for Apache Spark & ML.NET NuGet packages"
   ]
  },
  {
   "cell_type": "code",
   "execution_count": 1,
   "metadata": {},
   "outputs": [
    {
     "data": {
      "text/html": [
       "\r\n",
       "<div>\r\n",
       "    <div id='dotnet-interactive-this-cell-10103.aa4836cb26d344d390796c64bbd039ba' style='display: none'>\r\n",
       "        The below script needs to be able to find the current output cell; this is an easy method to get it.\r\n",
       "    </div>\r\n",
       "    <script type='text/javascript'>\r\n",
       "// ensure `require` is available globally\r\n",
       "if (typeof require !== typeof Function || typeof require.config !== typeof Function) {\r\n",
       "    let require_script = document.createElement('script');\r\n",
       "    require_script.setAttribute('src', 'https://cdnjs.cloudflare.com/ajax/libs/require.js/2.3.6/require.min.js');\r\n",
       "    require_script.setAttribute('type', 'text/javascript');\r\n",
       "    require_script.onload = function () {\r\n",
       "        loadDotnetInteractiveApi();\r\n",
       "    };\r\n",
       "\r\n",
       "    document.getElementsByTagName('head')[0].appendChild(require_script);\r\n",
       "}\r\n",
       "else {\r\n",
       "    loadDotnetInteractiveApi();\r\n",
       "}\r\n",
       "\r\n",
       "async function probeAddresses(probingAddresses) {\r\n",
       "    function timeout(ms, promise) {\r\n",
       "        return new Promise(function (resolve, reject) {\r\n",
       "            setTimeout(function () {\r\n",
       "                reject(new Error('timeout'))\r\n",
       "            }, ms)\r\n",
       "            promise.then(resolve, reject)\r\n",
       "        })\r\n",
       "    }\r\n",
       "\r\n",
       "    if (Array.isArray(probingAddresses)) {\r\n",
       "        for (let i = 0; i < probingAddresses.length; i++) {\r\n",
       "\r\n",
       "            let rootUrl = probingAddresses[i];\r\n",
       "\r\n",
       "            if (!rootUrl.endsWith('/')) {\r\n",
       "                rootUrl = `${rootUrl}/`;\r\n",
       "            }\r\n",
       "\r\n",
       "            try {\r\n",
       "                let response = await timeout(1000, fetch(`${rootUrl}discovery`, {\r\n",
       "                    method: 'POST',\r\n",
       "                    cache: 'no-cache',\r\n",
       "                    mode: 'cors',\r\n",
       "                    timeout: 1000,\r\n",
       "                    headers: {\r\n",
       "                        'Content-Type': 'text/plain'\r\n",
       "                    },\r\n",
       "                    body: probingAddresses[i]\r\n",
       "                }));\r\n",
       "\r\n",
       "                if (response.status == 200) {\r\n",
       "                    return rootUrl;\r\n",
       "                }\r\n",
       "            }\r\n",
       "            catch (e) { }\r\n",
       "        }\r\n",
       "    }\r\n",
       "}\r\n",
       "\r\n",
       "function loadDotnetInteractiveApi() {\r\n",
       "    probeAddresses([\"http://10.0.0.4:1024/\", \"http://127.0.0.1:1024/\"])\r\n",
       "        .then((root) => {\r\n",
       "            // use probing to find host url and api resources\r\n",
       "            // load interactive helpers and language services\r\n",
       "            let dotnetInteractiveRequire = require.config({\r\n",
       "                context: '10103.aa4836cb26d344d390796c64bbd039ba',\r\n",
       "                paths: {\r\n",
       "                    'dotnet-interactive': `${root}resources`\r\n",
       "                }\r\n",
       "            }) || require;\r\n",
       "\r\n",
       "            let dotnetInteractiveExtensionsRequire = require.config({\r\n",
       "                context: '10103.aa4836cb26d344d390796c64bbd039ba',\r\n",
       "                paths: {\r\n",
       "                    'dotnet-interactive-extensions': `${root}extensions`\r\n",
       "                }\r\n",
       "            }) || require;\r\n",
       "\r\n",
       "            if (!window.dotnetInteractiveRequire) {\r\n",
       "                window.dotnetInteractiveRequire = dotnetInteractiveRequire;\r\n",
       "            }\r\n",
       "\r\n",
       "            if (!window.dotnetInteractiveExtensionsRequire) {\r\n",
       "                window.dotnetInteractiveExtensionsRequire = dotnetInteractiveExtensionsRequire;\r\n",
       "            }\r\n",
       "\r\n",
       "            window.getExtensionRequire = function(extensionName, extensionCacheBuster) {\r\n",
       "                let paths = {};\r\n",
       "                paths[extensionName] = `${root}extensions/${extensionName}/resources/`;\r\n",
       "                \r\n",
       "                let internalRequire = require.config({\r\n",
       "                    context: extensionCacheBuster,\r\n",
       "                    paths: paths,\r\n",
       "                    urlArgs: `cacheBuster=${extensionCacheBuster}`\r\n",
       "                    }) || require;\r\n",
       "\r\n",
       "                return internalRequire\r\n",
       "            };\r\n",
       "        \r\n",
       "            dotnetInteractiveRequire([\r\n",
       "                    'dotnet-interactive/dotnet-interactive'\r\n",
       "                ],\r\n",
       "                function (dotnet) {\r\n",
       "                    dotnet.init(window);\r\n",
       "                },\r\n",
       "                function (error) {\r\n",
       "                    console.log(error);\r\n",
       "                }\r\n",
       "            );\r\n",
       "        })\r\n",
       "        .catch(error => {console.log(error);});\r\n",
       "    }\r\n",
       "    </script>\r\n",
       "</div>"
      ]
     },
     "metadata": {},
     "output_type": "display_data"
    },
    {
     "data": {
      "text/plain": [
       "Installed package Microsoft.ML version 1.5.2"
      ]
     },
     "metadata": {},
     "output_type": "display_data"
    },
    {
     "data": {
      "text/plain": [
       "Installed package Microsoft.ML.AutoML version 0.17.2"
      ]
     },
     "metadata": {},
     "output_type": "display_data"
    },
    {
     "data": {
      "text/plain": [
       "Installed package Microsoft.Spark version 0.12.1"
      ]
     },
     "metadata": {},
     "output_type": "display_data"
    }
   ],
   "source": [
    "#r \"nuget:Microsoft.Spark,0.12.1\"\n",
    "#r \"nuget:Microsoft.ML,1.5.2\"\n",
    "#r \"nuget:Microsoft.ML.AutoML,0.17.2\""
   ]
  },
  {
   "cell_type": "markdown",
   "metadata": {},
   "source": [
    "## Import packages"
   ]
  },
  {
   "cell_type": "code",
   "execution_count": 18,
   "metadata": {},
   "outputs": [],
   "source": [
    "open Microsoft.Spark\n",
    "open Microsoft.Spark.Sql\n",
    "open Microsoft.ML\n",
    "open Microsoft.ML.Data\n",
    "open Microsoft.ML.AutoML"
   ]
  },
  {
   "cell_type": "markdown",
   "metadata": {},
   "source": [
    "## Define data directory"
   ]
  },
  {
   "cell_type": "code",
   "execution_count": 3,
   "metadata": {},
   "outputs": [],
   "source": [
    "let DATA_DIR = \"/datadrive/Data/Kaggle/arxiv-metadata-oai-snapshot-2020-08-14.json\""
   ]
  },
  {
   "cell_type": "markdown",
   "metadata": {},
   "source": [
    "## Initialize SparkSession"
   ]
  },
  {
   "cell_type": "code",
   "execution_count": 4,
   "metadata": {},
   "outputs": [
    {
     "name": "stdout",
     "output_type": "stream",
     "text": [
      "[2020-10-28T14:14:18.6588261Z] [fsharp-analytics-vm] [Info] [ConfigurationService] 'DOTNETBACKEND_PORT' environment variable is not set.\n",
      "[2020-10-28T14:14:18.6635483Z] [fsharp-analytics-vm] [Info] [ConfigurationService] Using port 5567 for connection.\n",
      "[2020-10-28T14:14:18.6642894Z] [fsharp-analytics-vm] [Info] [JvmBridge] JvMBridge port is 5567\n"
     ]
    }
   ],
   "source": [
    "let sparkSession = \n",
    "    SparkSession\n",
    "        .Builder()\n",
    "        .AppName(\"arxiv-analytics\")\n",
    "        .GetOrCreate()"
   ]
  },
  {
   "cell_type": "markdown",
   "metadata": {},
   "source": [
    "## Load data into DataFrame"
   ]
  },
  {
   "cell_type": "code",
   "execution_count": 5,
   "metadata": {},
   "outputs": [],
   "source": [
    "let arxivData = \n",
    "    sparkSession\n",
    "        .Read()\n",
    "        .Option(\"inferSchema\",true)\n",
    "        .Json([|DATA_DIR|])"
   ]
  },
  {
   "cell_type": "markdown",
   "metadata": {},
   "source": [
    "## Inspect original DataFrame schema"
   ]
  },
  {
   "cell_type": "code",
   "execution_count": 6,
   "metadata": {},
   "outputs": [
    {
     "name": "stdout",
     "output_type": "stream",
     "text": [
      "root\n",
      " |-- abstract: string (nullable = true)\n",
      " |-- authors: string (nullable = true)\n",
      " |-- authors_parsed: array (nullable = true)\n",
      " |    |-- element: array (containsNull = true)\n",
      " |    |    |-- element: string (containsNull = true)\n",
      " |-- categories: string (nullable = true)\n",
      " |-- comments: string (nullable = true)\n",
      " |-- doi: string (nullable = true)\n",
      " |-- id: string (nullable = true)\n",
      " |-- journal-ref: string (nullable = true)\n",
      " |-- license: string (nullable = true)\n",
      " |-- report-no: string (nullable = true)\n",
      " |-- submitter: string (nullable = true)\n",
      " |-- title: string (nullable = true)\n",
      " |-- update_date: string (nullable = true)\n",
      " |-- versions: array (nullable = true)\n",
      " |    |-- element: struct (containsNull = true)\n",
      " |    |    |-- created: string (nullable = true)\n",
      " |    |    |-- version: string (nullable = true)\n",
      "\n"
     ]
    }
   ],
   "source": [
    "arxivData.PrintSchema()"
   ]
  },
  {
   "cell_type": "markdown",
   "metadata": {},
   "source": [
    "## Select a subset of columns"
   ]
  },
  {
   "cell_type": "code",
   "execution_count": 7,
   "metadata": {},
   "outputs": [],
   "source": [
    "let columnNames = \n",
    "    [|\n",
    "        Functions.Col(\"id\")\n",
    "        Functions.Col(\"title\")\n",
    "        Functions.Col(\"abstract\")\n",
    "        Functions.Col(\"categories\")\n",
    "    |]"
   ]
  },
  {
   "cell_type": "code",
   "execution_count": 8,
   "metadata": {},
   "outputs": [],
   "source": [
    "let dfSubset = \n",
    "    arxivData\n",
    "        .Select(columnNames)"
   ]
  },
  {
   "cell_type": "code",
   "execution_count": 9,
   "metadata": {},
   "outputs": [
    {
     "name": "stdout",
     "output_type": "stream",
     "text": [
      "+---------+--------------------+--------------------+--------------+\n",
      "|       id|               title|            abstract|    categories|\n",
      "+---------+--------------------+--------------------+--------------+\n",
      "|0704.0001|Calculation of pr...|  A fully differe...|        hep-ph|\n",
      "|0704.0002|Sparsity-certifyi...|  We describe a n...| math.CO cs.CG|\n",
      "|0704.0003|The evolution of ...|  The evolution o...|physics.gen-ph|\n",
      "+---------+--------------------+--------------------+--------------+\n",
      "only showing top 3 rows\n",
      "\n"
     ]
    }
   ],
   "source": [
    "dfSubset.Show(3)"
   ]
  },
  {
   "cell_type": "markdown",
   "metadata": {},
   "source": [
    "## Get only top level category"
   ]
  },
  {
   "cell_type": "code",
   "execution_count": 10,
   "metadata": {},
   "outputs": [],
   "source": [
    "let multipleCategorySelection = \n",
    "    Functions.Split(Functions.Col(\"categories\"), \" \").GetItem(0)\n",
    "\n",
    "let subcategorySelection = \n",
    "    Functions.Split(Functions.Col(\"categories\"),\"\\.\").GetItem(0)"
   ]
  },
  {
   "cell_type": "code",
   "execution_count": 11,
   "metadata": {},
   "outputs": [],
   "source": [
    "let topLevelCategoryDf = \n",
    "    dfSubset\n",
    "        .WithColumn(\"categories\",multipleCategorySelection)\n",
    "        .WithColumn(\"categories\",subcategorySelection)"
   ]
  },
  {
   "cell_type": "code",
   "execution_count": 12,
   "metadata": {},
   "outputs": [
    {
     "name": "stdout",
     "output_type": "stream",
     "text": [
      "+---------+--------------------+--------------------+----------+\n",
      "|       id|               title|            abstract|categories|\n",
      "+---------+--------------------+--------------------+----------+\n",
      "|0704.0001|Calculation of pr...|  A fully differe...|    hep-ph|\n",
      "|0704.0002|Sparsity-certifyi...|  We describe a n...|      math|\n",
      "|0704.0003|The evolution of ...|  The evolution o...|   physics|\n",
      "+---------+--------------------+--------------------+----------+\n",
      "only showing top 3 rows\n",
      "\n"
     ]
    }
   ],
   "source": [
    "topLevelCategoryDf.Show(3)"
   ]
  },
  {
   "cell_type": "markdown",
   "metadata": {},
   "source": [
    "## Drop duplicates"
   ]
  },
  {
   "cell_type": "code",
   "execution_count": 13,
   "metadata": {},
   "outputs": [
    {
     "name": "stdout",
     "output_type": "stream",
     "text": [
      "+---------+\n",
      "|count(id)|\n",
      "+---------+\n",
      "|  1747307|\n",
      "+---------+\n",
      "\n"
     ]
    }
   ],
   "source": [
    "// original article count\n",
    "topLevelCategoryDf\n",
    "    .Agg(Functions.Count(Functions.Col(\"id\")))\n",
    "    .Show()"
   ]
  },
  {
   "cell_type": "code",
   "execution_count": 14,
   "metadata": {},
   "outputs": [],
   "source": [
    "let distinctTopLevelCategoryDf = \n",
    "    topLevelCategoryDf\n",
    "        .DropDuplicates(\"id\")\n",
    "        .Drop(Functions.Col(\"id\"))"
   ]
  },
  {
   "cell_type": "code",
   "execution_count": 15,
   "metadata": {},
   "outputs": [
    {
     "name": "stdout",
     "output_type": "stream",
     "text": [
      "+--------------------+--------------------+----------+\n",
      "|               title|            abstract|categories|\n",
      "+--------------------+--------------------+----------+\n",
      "|Binary Systems as...|  We review the g...|     gr-qc|\n",
      "|Cosmology from St...|  We explore the ...|    hep-ph|\n",
      "|Domain Switching ...|  We investigated...|  cond-mat|\n",
      "+--------------------+--------------------+----------+\n",
      "only showing top 3 rows\n",
      "\n"
     ]
    }
   ],
   "source": [
    "distinctTopLevelCategoryDf.Show(3)"
   ]
  },
  {
   "cell_type": "markdown",
   "metadata": {},
   "source": [
    "## Output cleaned results to files"
   ]
  },
  {
   "cell_type": "code",
   "execution_count": 16,
   "metadata": {},
   "outputs": [],
   "source": [
    "let outputDir = \"/datadrive/Data/ArXivSparkOutput\""
   ]
  },
  {
   "cell_type": "code",
   "execution_count": 17,
   "metadata": {},
   "outputs": [],
   "source": [
    "distinctTopLevelCategoryDf\n",
    "    .Write()\n",
    "    .Mode(\"overwrite\")\n",
    "    .Option(\"header\", true)\n",
    "    .Csv(outputDir)"
   ]
  },
  {
   "cell_type": "markdown",
   "metadata": {},
   "source": [
    "## Define paths and variables"
   ]
  },
  {
   "cell_type": "code",
   "execution_count": 25,
   "metadata": {},
   "outputs": [],
   "source": [
    "let trainDataPath = \"/datadrive/Data/ArXivTrainData/*\"\n",
    "let labelColumnName = \"categories\""
   ]
  },
  {
   "cell_type": "markdown",
   "metadata": {},
   "source": [
    "## Initialize MLContext"
   ]
  },
  {
   "cell_type": "code",
   "execution_count": 20,
   "metadata": {},
   "outputs": [],
   "source": [
    "let mlContext = MLContext()"
   ]
  },
  {
   "cell_type": "markdown",
   "metadata": {},
   "source": [
    "## Define data schema"
   ]
  },
  {
   "cell_type": "code",
   "execution_count": 22,
   "metadata": {},
   "outputs": [],
   "source": [
    "[<CLIMutable>]\n",
    "type ArxivData = {\n",
    "    [<LoadColumn(0)>] Title : string\n",
    "    [<LoadColumn(1)>] Abstract : string\n",
    "    [<LoadColumn(2)>] Categories : string\n",
    "}"
   ]
  },
  {
   "cell_type": "markdown",
   "metadata": {},
   "source": [
    "## Load data into IDataView"
   ]
  },
  {
   "cell_type": "code",
   "execution_count": 26,
   "metadata": {},
   "outputs": [],
   "source": [
    "let arxivDataView = mlContext.Data.LoadFromTextFile<ArxivData>(trainDataPath,separatorChar=',',hasHeader=true)"
   ]
  },
  {
   "cell_type": "markdown",
   "metadata": {},
   "source": [
    "## Define experiment settings"
   ]
  },
  {
   "cell_type": "code",
   "execution_count": 30,
   "metadata": {},
   "outputs": [],
   "source": [
    "let arxivExperimentSettings = new MulticlassExperimentSettings()\n",
    "arxivExperimentSettings.MaxExperimentTimeInSeconds <- 300u\n",
    "arxivExperimentSettings.OptimizingMetric <- MulticlassClassificationMetric.LogLoss"
   ]
  },
  {
   "cell_type": "markdown",
   "metadata": {},
   "source": [
    "## Define progress handler"
   ]
  },
  {
   "cell_type": "code",
   "execution_count": 36,
   "metadata": {},
   "outputs": [],
   "source": [
    "let width = 114\n",
    "\n",
    "let createRow width (message : string) = sprintf \"|%s|\" (message.PadRight(width - 2))\n",
    "\n",
    "let printRow l = \n",
    "    l\n",
    "    |> List.map (fun (p,msg : string) -> if p > 0 then msg.PadLeft(p, ' ') else msg.PadRight(-p, ' '))\n",
    "    |> String.concat \" \"\n",
    "    |> createRow width \n",
    "    |> printfn \"%s\"\n",
    "\n",
    "let multiclassMetricsHeader = \n",
    "    [\n",
    "        -4, \"\"\n",
    "        -35, \"Trainer\"\n",
    "        14, \"MicroAccuracy\"\n",
    "        14, \"MacroAccuracy\"\n",
    "        9, \"Duration\"\n",
    "    ]\n",
    "\n",
    "let printMulticlassMetricsHeader() = printRow multiclassMetricsHeader\n",
    "\n",
    "let printMulticlassIterationMetrics iteration trainerName (metrics : MulticlassClassificationMetrics) runtimeInSeconds = \n",
    "    [\n",
    "        string iteration\n",
    "        trainerName\n",
    "        sprintf \"%0.4f\" metrics.MicroAccuracy\n",
    "        sprintf \"%0.2f\" metrics.MacroAccuracy\n",
    "        sprintf \"%0.1f\" runtimeInSeconds\n",
    "    ]\n",
    "    |> List.zip (multiclassMetricsHeader |> List.map fst)\n",
    "    |> printRow\n",
    "\n",
    "let printIterationException (ex : exn) = \n",
    "    printf \"Exception during AutoML iteration: %O\" ex\n",
    "\n",
    "let progressHandler printHeader printIterMetrics =\n",
    "    let mutable iterIndex = 0\n",
    "    {new IProgress<RunDetail<'a>> with\n",
    "         member this.Report(value: RunDetail<'a>): unit = \n",
    "            if iterIndex = 0 then \n",
    "                printHeader()\n",
    "            iterIndex <- iterIndex + 1\n",
    "            match value.Exception with \n",
    "            | null -> \n",
    "                printIterMetrics iterIndex value.TrainerName value.ValidationMetrics value.RuntimeInSeconds\n",
    "            | ex -> \n",
    "                printIterationException ex\n",
    "    }\n",
    "\n",
    "\n",
    "let multiclassExperimentProgressHandler() = progressHandler printMulticlassMetricsHeader printMulticlassIterationMetrics"
   ]
  },
  {
   "cell_type": "code",
   "execution_count": 38,
   "metadata": {},
   "outputs": [],
   "source": [
    "let arxivExperiment = mlContext.Auto().CreateMulticlassClassificationExperiment(arxivExperimentSettings)"
   ]
  },
  {
   "cell_type": "code",
   "execution_count": null,
   "metadata": {},
   "outputs": [
    {
     "name": "stdout",
     "output_type": "stream",
     "text": [
      "Application is shutting down...\n"
     ]
    }
   ],
   "source": [
    "let experimentResults = arxivExperiment.Execute(arxivDataView,labelColumnName=\"Categories\",progressHandler=multiclassExperimentProgressHandler())"
   ]
  }
 ],
 "metadata": {
  "kernelspec": {
   "display_name": ".NET (F#)",
   "language": "F#",
   "name": ".net-fsharp"
  },
  "language_info": {
   "file_extension": ".fs",
   "mimetype": "text/x-fsharp",
   "name": "C#",
   "pygments_lexer": "fsharp",
   "version": "4.5"
  }
 },
 "nbformat": 4,
 "nbformat_minor": 4
}
