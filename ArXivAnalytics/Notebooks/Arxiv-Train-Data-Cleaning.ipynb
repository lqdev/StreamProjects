{
 "cells": [
  {
   "cell_type": "code",
   "execution_count": 4,
   "metadata": {},
   "outputs": [
    {
     "data": {
      "text/plain": [
       "Installed package Microsoft.Spark version 0.12.1"
      ]
     },
     "metadata": {},
     "output_type": "display_data"
    }
   ],
   "source": [
    "#r \"nuget:Microsoft.Spark,0.12.1\""
   ]
  },
  {
   "cell_type": "code",
   "execution_count": 5,
   "metadata": {},
   "outputs": [],
   "source": [
    "open Microsoft.Spark\n",
    "open Microsoft.Spark.Sql"
   ]
  },
  {
   "cell_type": "markdown",
   "metadata": {},
   "source": [
    "## Load training data"
   ]
  },
  {
   "cell_type": "code",
   "execution_count": 6,
   "metadata": {},
   "outputs": [],
   "source": [
    "let DATA_DIR = \"/datadrive/Data/ArXivTrainData\""
   ]
  },
  {
   "cell_type": "code",
   "execution_count": 7,
   "metadata": {},
   "outputs": [
    {
     "name": "stdout",
     "output_type": "stream",
     "text": [
      "[2020-11-16T15:22:00.5038198Z] [fsharp-analytics-vm] [Info] [ConfigurationService] 'DOTNETBACKEND_PORT' environment variable is not set.\n",
      "[2020-11-16T15:22:00.5050412Z] [fsharp-analytics-vm] [Info] [ConfigurationService] Using port 5567 for connection.\n",
      "[2020-11-16T15:22:00.5057788Z] [fsharp-analytics-vm] [Info] [JvmBridge] JvMBridge port is 5567\n"
     ]
    }
   ],
   "source": [
    "let sparkSession = \n",
    "    SparkSession\n",
    "        .Builder()\n",
    "        .AppName(\"arxiv-analytics\")\n",
    "        .GetOrCreate()"
   ]
  },
  {
   "cell_type": "code",
   "execution_count": 8,
   "metadata": {},
   "outputs": [],
   "source": [
    "let trainData = \n",
    "    sparkSession\n",
    "        .Read()\n",
    "        .Option(\"inferSchema\",true)\n",
    "        .Option(\"header\", true)\n",
    "        .Csv([|DATA_DIR|])"
   ]
  },
  {
   "cell_type": "markdown",
   "metadata": {},
   "source": [
    "## Load category data"
   ]
  },
  {
   "cell_type": "code",
   "execution_count": 9,
   "metadata": {},
   "outputs": [],
   "source": [
    "let CATEGORY_DIR = \"/datadrive/Data/ArXivCategoryData\""
   ]
  },
  {
   "cell_type": "code",
   "execution_count": 10,
   "metadata": {},
   "outputs": [],
   "source": [
    "let categoryData = \n",
    "    sparkSession\n",
    "        .Read()\n",
    "        .Option(\"inferSchema\",true)\n",
    "        .Option(\"header\", true)\n",
    "        .Csv([|CATEGORY_DIR|])"
   ]
  },
  {
   "cell_type": "code",
   "execution_count": 11,
   "metadata": {},
   "outputs": [
    {
     "name": "stdout",
     "output_type": "stream",
     "text": [
      "+----------+\n",
      "|categories|\n",
      "+----------+\n",
      "|     gr-qc|\n",
      "|  acc-phys|\n",
      "|  funct-an|\n",
      "|  cond-mat|\n",
      "|        cs|\n",
      "|  supr-con|\n",
      "|  chao-dyn|\n",
      "|     q-alg|\n",
      "|     dg-ga|\n",
      "|     q-fin|\n",
      "|      eess|\n",
      "|   chem-ph|\n",
      "|     q-bio|\n",
      "|  quant-ph|\n",
      "|      stat|\n",
      "|      nlin|\n",
      "|   nucl-ex|\n",
      "|    hep-th|\n",
      "|  astro-ph|\n",
      "|      econ|\n",
      "+----------+\n",
      "only showing top 20 rows\n",
      "\n"
     ]
    }
   ],
   "source": [
    "categoryData.Show()"
   ]
  },
  {
   "cell_type": "code",
   "execution_count": 36,
   "metadata": {},
   "outputs": [],
   "source": [
    "let categoryList = \n",
    "    categoryData\n",
    "        .Select(Functions.Col(\"categories\"))\n",
    "        .Collect()\n",
    "        |> Seq.map(fun row -> row.[0].ToString())\n",
    "        |> Array.ofSeq"
   ]
  },
  {
   "cell_type": "code",
   "execution_count": 37,
   "metadata": {},
   "outputs": [
    {
     "data": {
      "text/html": [
       "<table><thead><tr><th><i>index</i></th><th>value</th></tr></thead><tbody><tr><td>0</td><td><div class=\"dni-plaintext\">gr-qc</div></td></tr><tr><td>1</td><td><div class=\"dni-plaintext\">acc-phys</div></td></tr><tr><td>2</td><td><div class=\"dni-plaintext\">funct-an</div></td></tr><tr><td>3</td><td><div class=\"dni-plaintext\">cond-mat</div></td></tr><tr><td>4</td><td><div class=\"dni-plaintext\">cs</div></td></tr><tr><td>5</td><td><div class=\"dni-plaintext\">supr-con</div></td></tr><tr><td>6</td><td><div class=\"dni-plaintext\">chao-dyn</div></td></tr><tr><td>7</td><td><div class=\"dni-plaintext\">q-alg</div></td></tr><tr><td>8</td><td><div class=\"dni-plaintext\">dg-ga</div></td></tr><tr><td>9</td><td><div class=\"dni-plaintext\">q-fin</div></td></tr><tr><td>10</td><td><div class=\"dni-plaintext\">eess</div></td></tr><tr><td>11</td><td><div class=\"dni-plaintext\">chem-ph</div></td></tr><tr><td>12</td><td><div class=\"dni-plaintext\">q-bio</div></td></tr><tr><td>13</td><td><div class=\"dni-plaintext\">quant-ph</div></td></tr><tr><td>14</td><td><div class=\"dni-plaintext\">stat</div></td></tr><tr><td>15</td><td><div class=\"dni-plaintext\">nlin</div></td></tr><tr><td>16</td><td><div class=\"dni-plaintext\">nucl-ex</div></td></tr><tr><td>17</td><td><div class=\"dni-plaintext\">hep-th</div></td></tr><tr><td>18</td><td><div class=\"dni-plaintext\">astro-ph</div></td></tr><tr><td>19</td><td><div class=\"dni-plaintext\">econ</div></td></tr><tr><td colspan=\"2\">(18 more)</td></tr></tbody></table>"
      ]
     },
     "execution_count": 37,
     "metadata": {},
     "output_type": "execute_result"
    }
   ],
   "source": [
    "categoryList"
   ]
  },
  {
   "cell_type": "code",
   "execution_count": 38,
   "metadata": {},
   "outputs": [
    {
     "data": {
      "text/html": [
       "<span><a href=\"https://docs.microsoft.com/dotnet/api/system.string[]?view=netcore-3.0\">System.String[]</a></span>"
      ]
     },
     "execution_count": 38,
     "metadata": {},
     "output_type": "execute_result"
    }
   ],
   "source": [
    "categoryList.GetType()"
   ]
  },
  {
   "cell_type": "code",
   "execution_count": 41,
   "metadata": {},
   "outputs": [],
   "source": [
    "let topLevelCategoriesDf = \n",
    "    trainData\n",
    "        .Filter(Functions.Col(\"categories\").IsIn(categoryList))"
   ]
  },
  {
   "cell_type": "code",
   "execution_count": 42,
   "metadata": {},
   "outputs": [
    {
     "name": "stdout",
     "output_type": "stream",
     "text": [
      "+--------------------+--------------------+----------+\n",
      "|               title|            abstract|categories|\n",
      "+--------------------+--------------------+----------+\n",
      "|   the shear modulus| and the shear vi...|  astro-ph|\n",
      "|            Lemaitre| although his pap...|  astro-ph|\n",
      "|            universe| including dark e...|     gr-qc|\n",
      "|       momentum maps| that should be t...|      math|\n",
      "|gamma energies th...|   standard models.\"|   nucl-ex|\n",
      "|         self-energy| is taken into ac...|  cond-mat|\n",
      "|together cluster ...| graph theory and...|        cs|\n",
      "|         tr_P(x_P)=1| where P varies o...|      math|\n",
      "|          systematic| and the upper li...|    hep-ex|\n",
      "|Comment: Expert E...|Comment: Expert E...|      stat|\n",
      "| with the BCG itself| extending out to...|  astro-ph|\n",
      "|probably already ...| it qualifies as ...|  astro-ph|\n",
      "|  $\\\\epsilon$ values| the forward regi...|   physics|\n",
      "|        linearisable| they possess non...|   math-ph|\n",
      "|parametrized by t...|H)$ by $Sp_\\\\thet...|      math|\n",
      "|arbitrarily close...| and the closure ...|      math|\n",
      "|designs as well a...|000 randomly gene...|        cs|\n",
      "|              Thomas| M. F. Atiyah and...|      math|\n",
      "|their late power-...|      as predicted.\"|  astro-ph|\n",
      "|    oscillatory flow| which have been ...|  cond-mat|\n",
      "+--------------------+--------------------+----------+\n",
      "only showing top 20 rows\n",
      "\n"
     ]
    }
   ],
   "source": [
    "topLevelCategoriesDf.Show()"
   ]
  },
  {
   "cell_type": "markdown",
   "metadata": {},
   "source": [
    "## Get null category counts"
   ]
  },
  {
   "cell_type": "code",
   "execution_count": 20,
   "metadata": {},
   "outputs": [
    {
     "data": {
      "text/html": [
       "<div class=\"dni-plaintext\">20633107</div>"
      ]
     },
     "execution_count": 20,
     "metadata": {},
     "output_type": "execute_result"
    }
   ],
   "source": [
    "trainData\n",
    "    .Filter(Functions.Col(\"categories\").IsNull())\n",
    "    .Count()"
   ]
  },
  {
   "cell_type": "code",
   "execution_count": 21,
   "metadata": {},
   "outputs": [
    {
     "data": {
      "text/html": [
       "<div class=\"dni-plaintext\">21986044</div>"
      ]
     },
     "execution_count": 21,
     "metadata": {},
     "output_type": "execute_result"
    }
   ],
   "source": [
    "trainData.Count()"
   ]
  },
  {
   "cell_type": "markdown",
   "metadata": {},
   "source": [
    "## Drop null categories"
   ]
  },
  {
   "cell_type": "code",
   "execution_count": 17,
   "metadata": {},
   "outputs": [],
   "source": [
    "let noNullCategoriesDf = \n",
    "    trainData\n",
    "        .Na()\n",
    "        .Drop(seq {\"categories\"})"
   ]
  },
  {
   "cell_type": "code",
   "execution_count": 18,
   "metadata": {},
   "outputs": [
    {
     "name": "stdout",
     "output_type": "stream",
     "text": [
      "+--------------------+--------------------+--------------------+\n",
      "|               title|            abstract|          categories|\n",
      "+--------------------+--------------------+--------------------+\n",
      "|               (IRAS|                 MSX|              2MASS)|\n",
      "|that any such sta...| in a well define...|  a state of minimum|\n",
      "|   the shear modulus| and the shear vi...|            astro-ph|\n",
      "|be linearly unsta...| I study how a small|           localized|\n",
      "|10 keV based on I...|           Swift/BAT| and BeppoSAX/PDS...|\n",
      "|of the emitting h...| while the amount...|                 due|\n",
      "|             403-435|      1986). Finally| we will discuss ...|\n",
      "|cosmology from 19...| based on the sem...|                  de|\n",
      "|              Sitter|           Friedmann|            Lemaitre|\n",
      "|            Lemaitre| although his pap...|            astro-ph|\n",
      "+--------------------+--------------------+--------------------+\n",
      "only showing top 10 rows\n",
      "\n"
     ]
    }
   ],
   "source": [
    "noNullCategoriesDf.Show(10)"
   ]
  },
  {
   "cell_type": "code",
   "execution_count": 28,
   "metadata": {},
   "outputs": [
    {
     "data": {
      "text/html": [
       "<div class=\"dni-plaintext\">1352937</div>"
      ]
     },
     "execution_count": 28,
     "metadata": {},
     "output_type": "execute_result"
    }
   ],
   "source": [
    "noNullCategoriesDf.Count()"
   ]
  },
  {
   "cell_type": "code",
   "execution_count": 40,
   "metadata": {},
   "outputs": [
    {
     "name": "stdout",
     "output_type": "stream",
     "text": [
      "+--------------------+--------------------+----------+\n",
      "|               title|            abstract|categories|\n",
      "+--------------------+--------------------+----------+\n",
      "|   the shear modulus| and the shear vi...|  astro-ph|\n",
      "|            Lemaitre| although his pap...|  astro-ph|\n",
      "|            universe| including dark e...|     gr-qc|\n",
      "|       momentum maps| that should be t...|      math|\n",
      "|gamma energies th...|   standard models.\"|   nucl-ex|\n",
      "|         self-energy| is taken into ac...|  cond-mat|\n",
      "|together cluster ...| graph theory and...|        cs|\n",
      "|         tr_P(x_P)=1| where P varies o...|      math|\n",
      "|          systematic| and the upper li...|    hep-ex|\n",
      "|Comment: Expert E...|Comment: Expert E...|      stat|\n",
      "| with the BCG itself| extending out to...|  astro-ph|\n",
      "|probably already ...| it qualifies as ...|  astro-ph|\n",
      "|  $\\\\epsilon$ values| the forward regi...|   physics|\n",
      "|        linearisable| they possess non...|   math-ph|\n",
      "|parametrized by t...|H)$ by $Sp_\\\\thet...|      math|\n",
      "|arbitrarily close...| and the closure ...|      math|\n",
      "|designs as well a...|000 randomly gene...|        cs|\n",
      "|              Thomas| M. F. Atiyah and...|      math|\n",
      "|their late power-...|      as predicted.\"|  astro-ph|\n",
      "|    oscillatory flow| which have been ...|  cond-mat|\n",
      "+--------------------+--------------------+----------+\n",
      "only showing top 20 rows\n",
      "\n"
     ]
    }
   ],
   "source": [
    "noNullCategoriesDf\n",
    "    .Filter(Functions.Col(\"categories\").IsIn(categoryList))\n",
    "    .Show()"
   ]
  }
 ],
 "metadata": {
  "kernelspec": {
   "display_name": ".NET (F#)",
   "language": "F#",
   "name": ".net-fsharp"
  },
  "language_info": {
   "file_extension": ".fs",
   "mimetype": "text/x-fsharp",
   "name": "C#",
   "pygments_lexer": "fsharp",
   "version": "4.5"
  }
 },
 "nbformat": 4,
 "nbformat_minor": 4
}
