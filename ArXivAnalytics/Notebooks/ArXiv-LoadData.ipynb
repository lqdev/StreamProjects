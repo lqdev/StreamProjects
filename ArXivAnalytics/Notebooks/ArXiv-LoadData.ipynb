{
 "cells": [
  {
   "cell_type": "markdown",
   "metadata": {},
   "source": [
    "## Install Microsoft.Spark NuGet package"
   ]
  },
  {
   "cell_type": "code",
   "execution_count": 1,
   "metadata": {},
   "outputs": [
    {
     "data": {
      "text/html": [
       "\r\n",
       "<div>\r\n",
       "    <div id='dotnet-interactive-this-cell-5223.803d9c3791a147b3b35932644f1abf72' style='display: none'>\r\n",
       "        The below script needs to be able to find the current output cell; this is an easy method to get it.\r\n",
       "    </div>\r\n",
       "    <script type='text/javascript'>\r\n",
       "// ensure `require` is available globally\r\n",
       "if (typeof require !== typeof Function || typeof require.config !== typeof Function) {\r\n",
       "    let require_script = document.createElement('script');\r\n",
       "    require_script.setAttribute('src', 'https://cdnjs.cloudflare.com/ajax/libs/require.js/2.3.6/require.min.js');\r\n",
       "    require_script.setAttribute('type', 'text/javascript');\r\n",
       "    require_script.onload = function () {\r\n",
       "        loadDotnetInteractiveApi();\r\n",
       "    };\r\n",
       "\r\n",
       "    document.getElementsByTagName('head')[0].appendChild(require_script);\r\n",
       "}\r\n",
       "else {\r\n",
       "    loadDotnetInteractiveApi();\r\n",
       "}\r\n",
       "\r\n",
       "async function probeAddresses(probingAddresses) {\r\n",
       "    function timeout(ms, promise) {\r\n",
       "        return new Promise(function (resolve, reject) {\r\n",
       "            setTimeout(function () {\r\n",
       "                reject(new Error('timeout'))\r\n",
       "            }, ms)\r\n",
       "            promise.then(resolve, reject)\r\n",
       "        })\r\n",
       "    }\r\n",
       "\r\n",
       "    if (Array.isArray(probingAddresses)) {\r\n",
       "        for (let i = 0; i < probingAddresses.length; i++) {\r\n",
       "\r\n",
       "            let rootUrl = probingAddresses[i];\r\n",
       "\r\n",
       "            if (!rootUrl.endsWith('/')) {\r\n",
       "                rootUrl = `${rootUrl}/`;\r\n",
       "            }\r\n",
       "\r\n",
       "            try {\r\n",
       "                let response = await timeout(1000, fetch(`${rootUrl}discovery`, {\r\n",
       "                    method: 'POST',\r\n",
       "                    cache: 'no-cache',\r\n",
       "                    mode: 'cors',\r\n",
       "                    timeout: 1000,\r\n",
       "                    headers: {\r\n",
       "                        'Content-Type': 'text/plain'\r\n",
       "                    },\r\n",
       "                    body: probingAddresses[i]\r\n",
       "                }));\r\n",
       "\r\n",
       "                if (response.status == 200) {\r\n",
       "                    return rootUrl;\r\n",
       "                }\r\n",
       "            }\r\n",
       "            catch (e) { }\r\n",
       "        }\r\n",
       "    }\r\n",
       "}\r\n",
       "\r\n",
       "function loadDotnetInteractiveApi() {\r\n",
       "    probeAddresses([\"http://10.0.0.4:1024/\", \"http://127.0.0.1:1024/\"])\r\n",
       "        .then((root) => {\r\n",
       "            // use probing to find host url and api resources\r\n",
       "            // load interactive helpers and language services\r\n",
       "            let dotnetInteractiveRequire = require.config({\r\n",
       "                context: '5223.803d9c3791a147b3b35932644f1abf72',\r\n",
       "                paths: {\r\n",
       "                    'dotnet-interactive': `${root}resources`\r\n",
       "                }\r\n",
       "            }) || require;\r\n",
       "\r\n",
       "            let dotnetInteractiveExtensionsRequire = require.config({\r\n",
       "                context: '5223.803d9c3791a147b3b35932644f1abf72',\r\n",
       "                paths: {\r\n",
       "                    'dotnet-interactive-extensions': `${root}extensions`\r\n",
       "                }\r\n",
       "            }) || require;\r\n",
       "\r\n",
       "            if (!window.dotnetInteractiveRequire) {\r\n",
       "                window.dotnetInteractiveRequire = dotnetInteractiveRequire;\r\n",
       "            }\r\n",
       "\r\n",
       "            if (!window.dotnetInteractiveExtensionsRequire) {\r\n",
       "                window.dotnetInteractiveExtensionsRequire = dotnetInteractiveExtensionsRequire;\r\n",
       "            }\r\n",
       "\r\n",
       "            window.getExtensionRequire = function(extensionName, extensionCacheBuster) {\r\n",
       "                let paths = {};\r\n",
       "                paths[extensionName] = `${root}extensions/${extensionName}/resources/`;\r\n",
       "                \r\n",
       "                let internalRequire = require.config({\r\n",
       "                    context: extensionCacheBuster,\r\n",
       "                    paths: paths,\r\n",
       "                    urlArgs: `cacheBuster=${extensionCacheBuster}`\r\n",
       "                    }) || require;\r\n",
       "\r\n",
       "                return internalRequire\r\n",
       "            };\r\n",
       "        \r\n",
       "            dotnetInteractiveRequire([\r\n",
       "                    'dotnet-interactive/dotnet-interactive'\r\n",
       "                ],\r\n",
       "                function (dotnet) {\r\n",
       "                    dotnet.init(window);\r\n",
       "                },\r\n",
       "                function (error) {\r\n",
       "                    console.log(error);\r\n",
       "                }\r\n",
       "            );\r\n",
       "        })\r\n",
       "        .catch(error => {console.log(error);});\r\n",
       "    }\r\n",
       "    </script>\r\n",
       "</div>"
      ]
     },
     "metadata": {},
     "output_type": "display_data"
    },
    {
     "data": {
      "text/plain": [
       "Installed package Microsoft.Spark version 0.12.1"
      ]
     },
     "metadata": {},
     "output_type": "display_data"
    }
   ],
   "source": [
    "#r \"nuget:Microsoft.Spark,0.12.1\""
   ]
  },
  {
   "cell_type": "markdown",
   "metadata": {},
   "source": [
    "## Import packages"
   ]
  },
  {
   "cell_type": "code",
   "execution_count": 2,
   "metadata": {},
   "outputs": [],
   "source": [
    "open Microsoft.Spark\n",
    "open Microsoft.Spark.Sql"
   ]
  },
  {
   "cell_type": "markdown",
   "metadata": {},
   "source": [
    "## Define data directory"
   ]
  },
  {
   "cell_type": "code",
   "execution_count": 3,
   "metadata": {},
   "outputs": [],
   "source": [
    "let DATA_DIR = \"/datadrive/Data/Kaggle/arxiv-metadata-oai-snapshot-2020-08-14.json\""
   ]
  },
  {
   "cell_type": "markdown",
   "metadata": {},
   "source": [
    "## Initialize SparkSession"
   ]
  },
  {
   "cell_type": "code",
   "execution_count": 4,
   "metadata": {},
   "outputs": [
    {
     "name": "stdout",
     "output_type": "stream",
     "text": [
      "[2020-10-21T14:10:58.7793153Z] [fsharp-analytics-vm] [Info] [ConfigurationService] 'DOTNETBACKEND_PORT' environment variable is not set.\n",
      "[2020-10-21T14:10:58.7837183Z] [fsharp-analytics-vm] [Info] [ConfigurationService] Using port 5567 for connection.\n",
      "[2020-10-21T14:10:58.7842855Z] [fsharp-analytics-vm] [Info] [JvmBridge] JvMBridge port is 5567\n"
     ]
    }
   ],
   "source": [
    "let sparkSession = \n",
    "    SparkSession\n",
    "        .Builder()\n",
    "        .AppName(\"arxiv-analytics\")\n",
    "        .GetOrCreate()"
   ]
  },
  {
   "cell_type": "markdown",
   "metadata": {},
   "source": [
    "## Load data into DataFrame"
   ]
  },
  {
   "cell_type": "code",
   "execution_count": 5,
   "metadata": {},
   "outputs": [],
   "source": [
    "let arxivData = \n",
    "    sparkSession\n",
    "        .Read()\n",
    "        .Option(\"inferSchema\",true)\n",
    "        .Json([|DATA_DIR|])"
   ]
  },
  {
   "cell_type": "markdown",
   "metadata": {},
   "source": [
    "## Get article categories in dataset"
   ]
  },
  {
   "cell_type": "code",
   "execution_count": 6,
   "metadata": {},
   "outputs": [],
   "source": [
    "let categories = \n",
    "    arxivData\n",
    "        .Select(Functions.Col(\"id\"),Functions.Col(\"categories\").Alias(\"categories\"))\n",
    "        .GroupBy(Functions.Col(\"id\"), Functions.Col(\"categories\"))\n",
    "        .Count()\n",
    "        .OrderBy(Functions.Col(\"count\").Desc())"
   ]
  },
  {
   "cell_type": "markdown",
   "metadata": {},
   "source": [
    "## Flatten articles containing multiple categories"
   ]
  },
  {
   "cell_type": "code",
   "execution_count": 7,
   "metadata": {},
   "outputs": [],
   "source": [
    "let flattenedCategories = \n",
    "    categories\n",
    "        .Select(Functions.Col(\"id\"), Functions.Split(Functions.Col(\"categories\"),\" \").Alias(\"multiplecategories\"))\n",
    "        .Select(Functions.Col(\"id\"), Functions.Explode(Functions.Col(\"multiplecategories\")).Alias(\"category\"))\n",
    "        .GroupBy(Functions.Col(\"id\"),Functions.Col(\"category\"))\n",
    "        .Count()\n",
    "        .OrderBy(Functions.Col(\"count\").Desc())"
   ]
  },
  {
   "cell_type": "markdown",
   "metadata": {},
   "source": [
    "## Drop duplicate articles"
   ]
  },
  {
   "cell_type": "code",
   "execution_count": 8,
   "metadata": {},
   "outputs": [],
   "source": [
    "let flattenedDistinctCategories = \n",
    "    flattenedCategories\n",
    "        .DropDuplicates(\"id\")"
   ]
  },
  {
   "cell_type": "markdown",
   "metadata": {},
   "source": [
    "## Aggregate distinct article categories"
   ]
  },
  {
   "cell_type": "code",
   "execution_count": 9,
   "metadata": {},
   "outputs": [],
   "source": [
    "let flattenedCategoryCounts =\n",
    "    flattenedDistinctCategories\n",
    "        .Select(Functions.Col(\"id\"),Functions.Col(\"category\"))\n",
    "        .GroupBy(Functions.Col(\"category\"))\n",
    "        .Count()\n",
    "        .OrderBy(Functions.Col(\"count\").Desc())"
   ]
  },
  {
   "cell_type": "code",
   "execution_count": 15,
   "metadata": {},
   "outputs": [
    {
     "name": "stdout",
     "output_type": "stream",
     "text": [
      "+------------------+------+\n",
      "|          category| count|\n",
      "+------------------+------+\n",
      "|            hep-ph|105482|\n",
      "|          astro-ph| 94315|\n",
      "|            hep-th| 85276|\n",
      "|          quant-ph| 73608|\n",
      "|             gr-qc| 48521|\n",
      "| cond-mat.mes-hall| 47404|\n",
      "| cond-mat.mtrl-sci| 45916|\n",
      "|   cond-mat.str-el| 38075|\n",
      "|cond-mat.stat-mech| 34181|\n",
      "|             cs.CV| 32269|\n",
      "+------------------+------+\n",
      "only showing top 10 rows\n",
      "\n"
     ]
    }
   ],
   "source": [
    "flattenedCategoryCounts.Show(10)"
   ]
  },
  {
   "cell_type": "code",
   "execution_count": 30,
   "metadata": {},
   "outputs": [
    {
     "name": "stdout",
     "output_type": "stream",
     "text": [
      "+------------------------+\n",
      "|count(DISTINCT category)|\n",
      "+------------------------+\n",
      "|                     176|\n",
      "+------------------------+\n",
      "\n"
     ]
    }
   ],
   "source": [
    "flattenedCategoryCounts\n",
    "    .Agg(Functions.CountDistinct(Functions.Col(\"category\")))\n",
    "    .Show()"
   ]
  },
  {
   "cell_type": "code",
   "execution_count": null,
   "metadata": {},
   "outputs": [],
   "source": [
    "flattenedCategoryCounts\n",
    "    .Agg(Functions.Sum(Functions.Col(\"count\")))\n",
    "    .Show()"
   ]
  },
  {
   "cell_type": "markdown",
   "metadata": {},
   "source": [
    "## Aggregate distinct categories based on top level category"
   ]
  },
  {
   "cell_type": "code",
   "execution_count": 39,
   "metadata": {},
   "outputs": [],
   "source": [
    "let topLevelCategoryCounts = \n",
    "    flattenedCategoryCounts\n",
    "        .Select(Functions.Split(Functions.Col(\"category\"),\"\\.\").GetItem(0).As(\"toplevelcategory\"),Functions.Col(\"count\"))\n",
    "        .GroupBy(Functions.Col(\"toplevelcategory\"))\n",
    "        .Sum()\n",
    "        .OrderBy(Functions.Col(\"sum(count)\").Desc())"
   ]
  },
  {
   "cell_type": "code",
   "execution_count": 40,
   "metadata": {},
   "outputs": [
    {
     "name": "stdout",
     "output_type": "stream",
     "text": [
      "+----------------+----------+\n",
      "|toplevelcategory|sum(count)|\n",
      "+----------------+----------+\n",
      "|            math|    382066|\n",
      "|        cond-mat|    247515|\n",
      "|        astro-ph|    241432|\n",
      "|              cs|    229964|\n",
      "|         physics|    123758|\n",
      "|          hep-ph|    105482|\n",
      "|          hep-th|     85276|\n",
      "|        quant-ph|     73608|\n",
      "|           gr-qc|     48521|\n",
      "|            stat|     41863|\n",
      "+----------------+----------+\n",
      "only showing top 10 rows\n",
      "\n"
     ]
    }
   ],
   "source": [
    "topLevelCategoryCounts.Show(10)"
   ]
  },
  {
   "cell_type": "code",
   "execution_count": 41,
   "metadata": {},
   "outputs": [
    {
     "name": "stdout",
     "output_type": "stream",
     "text": [
      "+--------------------------------+\n",
      "|count(DISTINCT toplevelcategory)|\n",
      "+--------------------------------+\n",
      "|                              38|\n",
      "+--------------------------------+\n",
      "\n"
     ]
    }
   ],
   "source": [
    "topLevelCategoryCounts\n",
    "    .Agg(Functions.CountDistinct(Functions.Col(\"toplevelcategory\")))\n",
    "    .Show()"
   ]
  },
  {
   "cell_type": "code",
   "execution_count": 42,
   "metadata": {},
   "outputs": [
    {
     "name": "stdout",
     "output_type": "stream",
     "text": [
      "+---------------+\n",
      "|sum(sum(count))|\n",
      "+---------------+\n",
      "|        1747307|\n",
      "+---------------+\n",
      "\n"
     ]
    }
   ],
   "source": [
    "topLevelCategoryCounts\n",
    "    .Agg(Functions.Sum(Functions.Col(\"sum(count)\")))\n",
    "    .Show()"
   ]
  },
  {
   "cell_type": "code",
   "execution_count": 33,
   "metadata": {},
   "outputs": [
    {
     "name": "stdout",
     "output_type": "stream",
     "text": [
      "+-------+--------+------------------+\n",
      "|summary|category|             count|\n",
      "+-------+--------+------------------+\n",
      "|  count|     176|               176|\n",
      "|   mean|    null| 9927.880681818182|\n",
      "| stddev|    null|15881.645753239685|\n",
      "|    min|acc-phys|                 7|\n",
      "|    max|supr-con|            105482|\n",
      "+-------+--------+------------------+\n",
      "\n"
     ]
    }
   ],
   "source": [
    "flattenedCategoryCounts.Describe().Show()"
   ]
  },
  {
   "cell_type": "code",
   "execution_count": 44,
   "metadata": {},
   "outputs": [],
   "source": [
    "let categoryName = \n",
    "    topLevelCategoryCounts\n",
    "        .Select(Functions.Col(\"toplevelcategory\"))\n",
    "        .Collect()\n",
    "        |> Seq.map(fun row -> row.[0].ToString())"
   ]
  },
  {
   "cell_type": "code",
   "execution_count": 45,
   "metadata": {},
   "outputs": [],
   "source": [
    "let categoryCount = \n",
    "    topLevelCategoryCounts\n",
    "        .Select(Functions.Col(\"sum(count)\"))\n",
    "        .Collect()\n",
    "        |> Seq.map(fun row -> row.[0].ToString() |> Int32.Parse)"
   ]
  },
  {
   "cell_type": "markdown",
   "metadata": {},
   "source": [
    "## Plot categories"
   ]
  },
  {
   "cell_type": "code",
   "execution_count": 46,
   "metadata": {},
   "outputs": [
    {
     "data": {
      "text/plain": [
       "Installed package XPlot.Plotly version 3.0.1"
      ]
     },
     "metadata": {},
     "output_type": "display_data"
    }
   ],
   "source": [
    "#r \"nuget:XPlot.Plotly\""
   ]
  },
  {
   "cell_type": "code",
   "execution_count": 47,
   "metadata": {},
   "outputs": [],
   "source": [
    "open XPlot\n",
    "open XPlot.Plotly"
   ]
  },
  {
   "cell_type": "code",
   "execution_count": 48,
   "metadata": {},
   "outputs": [],
   "source": [
    "let trace =\n",
    "    Bar(\n",
    "        x = categoryName,\n",
    "        y = categoryCount,\n",
    "        name= \"ArXiv Categories\"            \n",
    "    )"
   ]
  },
  {
   "cell_type": "code",
   "execution_count": 49,
   "metadata": {},
   "outputs": [],
   "source": [
    "let layout = Layout(title = \"Basic Bar Chart\")"
   ]
  },
  {
   "cell_type": "code",
   "execution_count": 50,
   "metadata": {},
   "outputs": [
    {
     "data": {
      "text/html": [
       "<div id=\"f283ddf9-4aaf-4914-9278-b498d0f5ca60\" style=\"width: 700px; height: 500px;\"></div>\r\n",
       "<script type=\"text/javascript\">\n",
       "\r\n",
       "var renderPlotly = function() {\r\n",
       "    var xplotRequire = require.config({context:'xplot-3.0.1',paths:{plotly:'https://cdn.plot.ly/plotly-1.49.2.min'}}) || require;\r\n",
       "    xplotRequire(['plotly'], function(Plotly) {\n",
       "\n",
       "            var data = [{\"type\":\"bar\",\"x\":[\"math\",\"cond-mat\",\"astro-ph\",\"cs\",\"physics\",\"hep-ph\",\"hep-th\",\"quant-ph\",\"gr-qc\",\"stat\",\"nucl-th\",\"hep-ex\",\"q-bio\",\"math-ph\",\"nlin\",\"hep-lat\",\"nucl-ex\",\"eess\",\"q-fin\",\"econ\",\"chao-dyn\",\"q-alg\",\"alg-geom\",\"solv-int\",\"cmp-lg\",\"dg-ga\",\"patt-sol\",\"adap-org\",\"funct-an\",\"mtrl-th\",\"chem-ph\",\"comp-gas\",\"supr-con\",\"atom-ph\",\"acc-phys\",\"plasm-ph\",\"ao-sci\",\"bayes-an\"],\"y\":[382066,247515,241432,229964,123758,105482,85276,73608,48521,41863,29428,27074,20118,19942,19018,14903,12116,11634,7649,1457,975,621,616,462,442,305,248,191,151,117,101,89,69,44,21,13,11,7],\"name\":\"ArXiv Categories\"}];\n",
       "            var layout = {\"title\":\"Basic Bar Chart\"};\n",
       "            Plotly.newPlot('f283ddf9-4aaf-4914-9278-b498d0f5ca60', data, layout);\n",
       "        \n",
       "});\r\n",
       "};\r\n",
       "if ((typeof(require) !==  typeof(Function)) || (typeof(require.config) !== typeof(Function))) {\r\n",
       "    var script = document.createElement(\"script\"); \r\n",
       "    script.setAttribute(\"src\", \"https://cdnjs.cloudflare.com/ajax/libs/require.js/2.3.6/require.min.js\");\r\n",
       "    script.onload = function(){\r\n",
       "        renderPlotly();\r\n",
       "    };\r\n",
       "    document.getElementsByTagName(\"head\")[0].appendChild(script); \r\n",
       "}\r\n",
       "else {\r\n",
       "    renderPlotly();\r\n",
       "}\n",
       "</script>\n"
      ]
     },
     "execution_count": 50,
     "metadata": {},
     "output_type": "execute_result"
    }
   ],
   "source": [
    "[trace]\n",
    "|> Chart.Plot\n",
    "|> Chart.WithLayout layout\n",
    "|> Chart.WithHeight 500\n",
    "|> Chart.WithWidth 700"
   ]
  }
 ],
 "metadata": {
  "kernelspec": {
   "display_name": ".NET (F#)",
   "language": "F#",
   "name": ".net-fsharp"
  },
  "language_info": {
   "file_extension": ".fs",
   "mimetype": "text/x-fsharp",
   "name": "C#",
   "pygments_lexer": "fsharp",
   "version": "4.5"
  }
 },
 "nbformat": 4,
 "nbformat_minor": 4
}
