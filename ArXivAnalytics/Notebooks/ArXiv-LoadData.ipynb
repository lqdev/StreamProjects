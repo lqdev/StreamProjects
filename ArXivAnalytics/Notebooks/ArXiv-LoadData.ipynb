{
 "cells": [
  {
   "cell_type": "code",
   "execution_count": 1,
   "metadata": {},
   "outputs": [
    {
     "data": {
      "text/html": [
       "\r\n",
       "<div>\r\n",
       "    <div id='dotnet-interactive-this-cell-16920.3ddc2638b8184710973dcf3bfb7d2493' style='display: none'>\r\n",
       "        The below script needs to be able to find the current output cell; this is an easy method to get it.\r\n",
       "    </div>\r\n",
       "    <script type='text/javascript'>\r\n",
       "// ensure `require` is available globally\r\n",
       "if (typeof require !== typeof Function || typeof require.config !== typeof Function) {\r\n",
       "    let require_script = document.createElement('script');\r\n",
       "    require_script.setAttribute('src', 'https://cdnjs.cloudflare.com/ajax/libs/require.js/2.3.6/require.min.js');\r\n",
       "    require_script.setAttribute('type', 'text/javascript');\r\n",
       "    require_script.onload = function () {\r\n",
       "        loadDotnetInteractiveApi();\r\n",
       "    };\r\n",
       "\r\n",
       "    document.getElementsByTagName('head')[0].appendChild(require_script);\r\n",
       "}\r\n",
       "else {\r\n",
       "    loadDotnetInteractiveApi();\r\n",
       "}\r\n",
       "\r\n",
       "async function probeAddresses(probingAddresses) {\r\n",
       "    function timeout(ms, promise) {\r\n",
       "        return new Promise(function (resolve, reject) {\r\n",
       "            setTimeout(function () {\r\n",
       "                reject(new Error('timeout'))\r\n",
       "            }, ms)\r\n",
       "            promise.then(resolve, reject)\r\n",
       "        })\r\n",
       "    }\r\n",
       "\r\n",
       "    if (Array.isArray(probingAddresses)) {\r\n",
       "        for (let i = 0; i < probingAddresses.length; i++) {\r\n",
       "\r\n",
       "            let rootUrl = probingAddresses[i];\r\n",
       "\r\n",
       "            if (!rootUrl.endsWith('/')) {\r\n",
       "                rootUrl = `${rootUrl}/`;\r\n",
       "            }\r\n",
       "\r\n",
       "            try {\r\n",
       "                let response = await timeout(1000, fetch(`${rootUrl}discovery`, {\r\n",
       "                    method: 'POST',\r\n",
       "                    cache: 'no-cache',\r\n",
       "                    mode: 'cors',\r\n",
       "                    timeout: 1000,\r\n",
       "                    headers: {\r\n",
       "                        'Content-Type': 'text/plain'\r\n",
       "                    },\r\n",
       "                    body: probingAddresses[i]\r\n",
       "                }));\r\n",
       "\r\n",
       "                if (response.status == 200) {\r\n",
       "                    return rootUrl;\r\n",
       "                }\r\n",
       "            }\r\n",
       "            catch (e) { }\r\n",
       "        }\r\n",
       "    }\r\n",
       "}\r\n",
       "\r\n",
       "function loadDotnetInteractiveApi() {\r\n",
       "    probeAddresses([\"http://10.0.0.4:1024/\", \"http://127.0.0.1:1024/\"])\r\n",
       "        .then((root) => {\r\n",
       "            // use probing to find host url and api resources\r\n",
       "            // load interactive helpers and language services\r\n",
       "            let dotnetInteractiveRequire = require.config({\r\n",
       "                context: '16920.3ddc2638b8184710973dcf3bfb7d2493',\r\n",
       "                paths: {\r\n",
       "                    'dotnet-interactive': `${root}resources`\r\n",
       "                }\r\n",
       "            }) || require;\r\n",
       "\r\n",
       "            let dotnetInteractiveExtensionsRequire = require.config({\r\n",
       "                context: '16920.3ddc2638b8184710973dcf3bfb7d2493',\r\n",
       "                paths: {\r\n",
       "                    'dotnet-interactive-extensions': `${root}extensions`\r\n",
       "                }\r\n",
       "            }) || require;\r\n",
       "\r\n",
       "            if (!window.dotnetInteractiveRequire) {\r\n",
       "                window.dotnetInteractiveRequire = dotnetInteractiveRequire;\r\n",
       "            }\r\n",
       "\r\n",
       "            if (!window.dotnetInteractiveExtensionsRequire) {\r\n",
       "                window.dotnetInteractiveExtensionsRequire = dotnetInteractiveExtensionsRequire;\r\n",
       "            }\r\n",
       "\r\n",
       "            window.getExtensionRequire = function(extensionName, extensionCacheBuster) {\r\n",
       "                let paths = {};\r\n",
       "                paths[extensionName] = `${root}extensions/${extensionName}/resources/`;\r\n",
       "                \r\n",
       "                let internalRequire = require.config({\r\n",
       "                    context: extensionCacheBuster,\r\n",
       "                    paths: paths,\r\n",
       "                    urlArgs: `cacheBuster=${extensionCacheBuster}`\r\n",
       "                    }) || require;\r\n",
       "\r\n",
       "                return internalRequire\r\n",
       "            };\r\n",
       "        \r\n",
       "            dotnetInteractiveRequire([\r\n",
       "                    'dotnet-interactive/dotnet-interactive'\r\n",
       "                ],\r\n",
       "                function (dotnet) {\r\n",
       "                    dotnet.init(window);\r\n",
       "                },\r\n",
       "                function (error) {\r\n",
       "                    console.log(error);\r\n",
       "                }\r\n",
       "            );\r\n",
       "        })\r\n",
       "        .catch(error => {console.log(error);});\r\n",
       "    }\r\n",
       "    </script>\r\n",
       "</div>"
      ]
     },
     "metadata": {},
     "output_type": "display_data"
    },
    {
     "data": {
      "text/plain": [
       "Installed package Microsoft.Spark version 0.12.1"
      ]
     },
     "metadata": {},
     "output_type": "display_data"
    }
   ],
   "source": [
    "#r \"nuget:Microsoft.Spark,0.12.1\""
   ]
  },
  {
   "cell_type": "markdown",
   "metadata": {},
   "source": [
    "##  Import Spark packages"
   ]
  },
  {
   "cell_type": "code",
   "execution_count": 2,
   "metadata": {},
   "outputs": [],
   "source": [
    "open Microsoft.Spark\n",
    "open Microsoft.Spark.Sql"
   ]
  },
  {
   "cell_type": "markdown",
   "metadata": {},
   "source": [
    "## Define data path"
   ]
  },
  {
   "cell_type": "code",
   "execution_count": 3,
   "metadata": {},
   "outputs": [],
   "source": [
    "let DATA_DIR = \"/datadrive/Data/Kaggle/arxiv-metadata-oai-snapshot-2020-08-14.json\""
   ]
  },
  {
   "cell_type": "markdown",
   "metadata": {},
   "source": [
    "## Initialize spark session"
   ]
  },
  {
   "cell_type": "code",
   "execution_count": 4,
   "metadata": {},
   "outputs": [
    {
     "name": "stdout",
     "output_type": "stream",
     "text": [
      "[2020-09-23T14:08:57.4017988Z] [fsharp-analytics-vm] [Info] [ConfigurationService] 'DOTNETBACKEND_PORT' environment variable is not set.\n",
      "[2020-09-23T14:08:57.4064359Z] [fsharp-analytics-vm] [Info] [ConfigurationService] Using port 5567 for connection.\n",
      "[2020-09-23T14:08:57.4087576Z] [fsharp-analytics-vm] [Info] [JvmBridge] JvMBridge port is 5567\n"
     ]
    }
   ],
   "source": [
    "let sparkSession = \n",
    "    SparkSession\n",
    "        .Builder()\n",
    "        .AppName(\"arxiv-analytics\")\n",
    "        .GetOrCreate()"
   ]
  },
  {
   "cell_type": "markdown",
   "metadata": {},
   "source": [
    "## Load data"
   ]
  },
  {
   "cell_type": "code",
   "execution_count": 5,
   "metadata": {},
   "outputs": [],
   "source": [
    "let arxivData = \n",
    "    sparkSession\n",
    "        .Read()\n",
    "        .Json([|DATA_DIR|])"
   ]
  },
  {
   "cell_type": "markdown",
   "metadata": {},
   "source": [
    "##  Display column names"
   ]
  },
  {
   "cell_type": "code",
   "execution_count": 6,
   "metadata": {},
   "outputs": [
    {
     "data": {
      "text/html": [
       "<table><thead><tr><th><i>index</i></th><th>value</th></tr></thead><tbody><tr><td>0</td><td><div class=\"dni-plaintext\">abstract</div></td></tr><tr><td>1</td><td><div class=\"dni-plaintext\">authors</div></td></tr><tr><td>2</td><td><div class=\"dni-plaintext\">authors_parsed</div></td></tr><tr><td>3</td><td><div class=\"dni-plaintext\">categories</div></td></tr><tr><td>4</td><td><div class=\"dni-plaintext\">comments</div></td></tr><tr><td>5</td><td><div class=\"dni-plaintext\">doi</div></td></tr><tr><td>6</td><td><div class=\"dni-plaintext\">id</div></td></tr><tr><td>7</td><td><div class=\"dni-plaintext\">journal-ref</div></td></tr><tr><td>8</td><td><div class=\"dni-plaintext\">license</div></td></tr><tr><td>9</td><td><div class=\"dni-plaintext\">report-no</div></td></tr><tr><td>10</td><td><div class=\"dni-plaintext\">submitter</div></td></tr><tr><td>11</td><td><div class=\"dni-plaintext\">title</div></td></tr><tr><td>12</td><td><div class=\"dni-plaintext\">update_date</div></td></tr><tr><td>13</td><td><div class=\"dni-plaintext\">versions</div></td></tr></tbody></table>"
      ]
     },
     "execution_count": 6,
     "metadata": {},
     "output_type": "execute_result"
    }
   ],
   "source": [
    "arxivData.Columns()"
   ]
  },
  {
   "cell_type": "markdown",
   "metadata": {},
   "source": [
    "## Get the category count in descending order"
   ]
  },
  {
   "cell_type": "code",
   "execution_count": 6,
   "metadata": {},
   "outputs": [],
   "source": [
    "let categories = \n",
    "    arxivData\n",
    "        .Select(Functions.Col(\"categories\").Alias(\"categories\"))\n",
    "        .GroupBy(\"categories\")\n",
    "        .Count()\n",
    "        .OrderBy(Functions.Col(\"count\").Desc())"
   ]
  },
  {
   "cell_type": "markdown",
   "metadata": {},
   "source": [
    "### Total number of distinct categories"
   ]
  },
  {
   "cell_type": "code",
   "execution_count": 13,
   "metadata": {},
   "outputs": [
    {
     "data": {
      "text/html": [
       "<div class=\"dni-plaintext\">60303</div>"
      ]
     },
     "execution_count": 13,
     "metadata": {},
     "output_type": "execute_result"
    }
   ],
   "source": [
    "let totalDistinctCategories = \n",
    "    categories\n",
    "        .Select(Functions.Col(\"categories\"))\n",
    "        .Distinct()\n",
    "        .Count()\n",
    "\n",
    "totalDistinctCategories"
   ]
  },
  {
   "cell_type": "markdown",
   "metadata": {},
   "source": [
    "### Total number of articles"
   ]
  },
  {
   "cell_type": "code",
   "execution_count": 71,
   "metadata": {},
   "outputs": [
    {
     "name": "stdout",
     "output_type": "stream",
     "text": [
      "+----------+\n",
      "|sum(count)|\n",
      "+----------+\n",
      "|   1747307|\n",
      "+----------+\n",
      "\n"
     ]
    }
   ],
   "source": [
    "categories\n",
    "    .Select(Functions.Sum(Functions.Col(\"count\")))\n",
    "    .Show()"
   ]
  },
  {
   "cell_type": "markdown",
   "metadata": {},
   "source": [
    "### Categories more than or equal to 1k articles"
   ]
  },
  {
   "cell_type": "code",
   "execution_count": 32,
   "metadata": {},
   "outputs": [
    {
     "name": "stdout",
     "output_type": "stream",
     "text": [
      "+-----------------+-----+\n",
      "|       categories|count|\n",
      "+-----------------+-----+\n",
      "|         astro-ph|86914|\n",
      "|           hep-ph|73082|\n",
      "|         quant-ph|52956|\n",
      "|           hep-th|52888|\n",
      "|cond-mat.mes-hall|29312|\n",
      "|cond-mat.mtrl-sci|29278|\n",
      "|            gr-qc|25221|\n",
      "|            cs.CV|23986|\n",
      "|          math.AP|23484|\n",
      "|      astro-ph.SR|22578|\n",
      "+-----------------+-----+\n",
      "only showing top 10 rows\n",
      "\n"
     ]
    }
   ],
   "source": [
    "let categoriesGtEq1k = \n",
    "    categories\n",
    "        .Filter(Functions.Col(\"count\").Gt(999))\n",
    "\n",
    "categoriesGtEq1k.Show(10)"
   ]
  },
  {
   "cell_type": "code",
   "execution_count": 33,
   "metadata": {},
   "outputs": [
    {
     "data": {
      "text/html": [
       "<div class=\"dni-plaintext\">197</div>"
      ]
     },
     "execution_count": 33,
     "metadata": {},
     "output_type": "execute_result"
    }
   ],
   "source": [
    "let totalCategoriesGtEq1k = \n",
    "    categoriesGtEq1k\n",
    "        .Select(Functions.Col(\"categories\"))\n",
    "        .Distinct()\n",
    "        .Count()\n",
    "\n",
    "totalCategoriesGtEq1k"
   ]
  },
  {
   "cell_type": "markdown",
   "metadata": {},
   "source": [
    "### Categories with less than 1k articles"
   ]
  },
  {
   "cell_type": "code",
   "execution_count": 14,
   "metadata": {},
   "outputs": [],
   "source": [
    "let categoriesLessThan1k = \n",
    "    categories\n",
    "        .Filter(Functions.Col(\"count\").Lt(1000))"
   ]
  },
  {
   "cell_type": "code",
   "execution_count": 15,
   "metadata": {},
   "outputs": [
    {
     "name": "stdout",
     "output_type": "stream",
     "text": [
      "+--------------------+-----+\n",
      "|          categories|count|\n",
      "+--------------------+-----+\n",
      "|hep-ph hep-ex nuc...|  997|\n",
      "|      physics.bio-ph|  993|\n",
      "|     math.PR math.CO|  990|\n",
      "|     math.AC math.AG|  982|\n",
      "|physics.app-ph co...|  974|\n",
      "|   astro-ph.HE gr-qc|  960|\n",
      "|hep-th astro-ph.C...|  950|\n",
      "|            q-bio.QM|  950|\n",
      "|     math.AP math.DG|  950|\n",
      "|      hep-lat hep-th|  945|\n",
      "+--------------------+-----+\n",
      "only showing top 10 rows\n",
      "\n"
     ]
    }
   ],
   "source": [
    "categoriesLessThan1k.Show(10)"
   ]
  },
  {
   "cell_type": "markdown",
   "metadata": {},
   "source": [
    "### Total distinct categories with less than 1k articles"
   ]
  },
  {
   "cell_type": "code",
   "execution_count": 12,
   "metadata": {},
   "outputs": [
    {
     "data": {
      "text/html": [
       "<div class=\"dni-plaintext\">60106</div>"
      ]
     },
     "execution_count": 12,
     "metadata": {},
     "output_type": "execute_result"
    }
   ],
   "source": [
    "let totalCategoriesLessThan1k = \n",
    "    categoriesLessThan1k\n",
    "        .Select(Functions.Col(\"categories\"))\n",
    "        .Distinct()\n",
    "        .Count()\n",
    "\n",
    "totalCategoriesLessThan1k"
   ]
  },
  {
   "cell_type": "code",
   "execution_count": 31,
   "metadata": {},
   "outputs": [
    {
     "name": "stdout",
     "output_type": "stream",
     "text": [
      "+------------------+-----+\n",
      "|          category|count|\n",
      "+------------------+-----+\n",
      "|           math.MP| 6457|\n",
      "|           math-ph| 6457|\n",
      "|             cs.LG| 6174|\n",
      "|          quant-ph| 5243|\n",
      "|cond-mat.stat-mech| 5137|\n",
      "|            hep-th| 4833|\n",
      "|           stat.ML| 4483|\n",
      "|   physics.comp-ph| 3192|\n",
      "|           math.OC| 3161|\n",
      "|           math.PR| 3105|\n",
      "+------------------+-----+\n",
      "only showing top 10 rows\n",
      "\n"
     ]
    }
   ],
   "source": [
    "let splitCategories = \n",
    "    categoriesLessThan1k\n",
    "        .Select(Functions.Split(Functions.Col(\"categories\"),\" \").Alias(\"multiplecategories\"))\n",
    "        .Select(Functions.Explode(Functions.Col(\"multiplecategories\")).Alias(\"category\"))\n",
    "        .GroupBy(\"category\")\n",
    "        .Count()\n",
    "        .OrderBy(Functions.Col(\"count\").Desc())\n",
    "\n",
    "splitCategories.Show(10)"
   ]
  },
  {
   "cell_type": "code",
   "execution_count": 35,
   "metadata": {},
   "outputs": [
    {
     "name": "stdout",
     "output_type": "stream",
     "text": [
      "+------------------+-----+\n",
      "|          category|count|\n",
      "+------------------+-----+\n",
      "|           math.MP| 6464|\n",
      "|           math-ph| 6464|\n",
      "|             cs.LG| 6181|\n",
      "|          quant-ph| 5252|\n",
      "|cond-mat.stat-mech| 5144|\n",
      "|            hep-th| 4844|\n",
      "|           stat.ML| 4488|\n",
      "|   physics.comp-ph| 3193|\n",
      "|           math.OC| 3162|\n",
      "|           math.PR| 3107|\n",
      "+------------------+-----+\n",
      "only showing top 10 rows\n",
      "\n"
     ]
    }
   ],
   "source": [
    "let flattenedCategories = \n",
    "    categories\n",
    "        .Select(Functions.Split(Functions.Col(\"categories\"),\" \").Alias(\"multiplecategories\"))\n",
    "        .Select(Functions.Explode(Functions.Col(\"multiplecategories\")).Alias(\"category\"))\n",
    "        .GroupBy(\"category\")\n",
    "        .Count()\n",
    "        .OrderBy(Functions.Col(\"count\").Desc())\n",
    "\n",
    "flattenedCategories.Show(10)"
   ]
  },
  {
   "cell_type": "code",
   "execution_count": 36,
   "metadata": {},
   "outputs": [
    {
     "data": {
      "text/html": [
       "<div class=\"dni-plaintext\">176</div>"
      ]
     },
     "execution_count": 36,
     "metadata": {},
     "output_type": "execute_result"
    }
   ],
   "source": [
    "flattenedCategories\n",
    "    .Select(Functions.Col(\"category\"))\n",
    "    .Distinct()\n",
    "    .Count()"
   ]
  },
  {
   "cell_type": "code",
   "execution_count": 69,
   "metadata": {},
   "outputs": [
    {
     "name": "stdout",
     "output_type": "stream",
     "text": [
      "+----------+\n",
      "|sum(count)|\n",
      "+----------+\n",
      "|      7960|\n",
      "+----------+\n",
      "\n"
     ]
    }
   ],
   "source": [
    "flattenedCategories\n",
    "    .Filter(Functions.Col(\"category\").Contains(\"astro-ph\"))\n",
    "    .Select(Functions.Sum(Functions.Col(\"count\")))\n",
    "    .Show()"
   ]
  },
  {
   "cell_type": "code",
   "execution_count": 70,
   "metadata": {},
   "outputs": [
    {
     "name": "stdout",
     "output_type": "stream",
     "text": [
      "+----------+\n",
      "|sum(count)|\n",
      "+----------+\n",
      "|    218210|\n",
      "+----------+\n",
      "\n"
     ]
    }
   ],
   "source": [
    "flattenedCategories\n",
    "    .Select(Functions.Sum(Functions.Col(\"count\")))\n",
    "    .Show()"
   ]
  },
  {
   "cell_type": "markdown",
   "metadata": {},
   "source": [
    "### Convert categories DataFrame to IEnumerable"
   ]
  },
  {
   "cell_type": "code",
   "execution_count": 40,
   "metadata": {},
   "outputs": [],
   "source": [
    "let categoriesIEnumerable = flattenedCategories.Collect()"
   ]
  },
  {
   "cell_type": "code",
   "execution_count": 38,
   "metadata": {},
   "outputs": [],
   "source": [
    "open System"
   ]
  },
  {
   "cell_type": "markdown",
   "metadata": {},
   "source": [
    "### Get category name and count columns"
   ]
  },
  {
   "cell_type": "code",
   "execution_count": 51,
   "metadata": {},
   "outputs": [],
   "source": [
    "let categoryName = \n",
    "    flattenedCategories\n",
    "        .Select(Functions.Col(\"category\"))\n",
    "        .Collect()\n",
    "        |> Seq.map(fun row -> row.[0].ToString())"
   ]
  },
  {
   "cell_type": "code",
   "execution_count": 52,
   "metadata": {},
   "outputs": [],
   "source": [
    "let categoryCount = \n",
    "    flattenedCategories\n",
    "        .Select(Functions.Col(\"count\"))\n",
    "        .Collect()\n",
    "        |> Seq.map(fun row -> row.[0].ToString() |> Int32.Parse)"
   ]
  },
  {
   "cell_type": "markdown",
   "metadata": {},
   "source": [
    "### Plot categories"
   ]
  },
  {
   "cell_type": "code",
   "execution_count": 53,
   "metadata": {},
   "outputs": [],
   "source": [
    "#r \"nuget:XPlot.Plotly\""
   ]
  },
  {
   "cell_type": "code",
   "execution_count": 54,
   "metadata": {},
   "outputs": [],
   "source": [
    "open XPlot\n",
    "open XPlot.Plotly"
   ]
  },
  {
   "cell_type": "code",
   "execution_count": 55,
   "metadata": {},
   "outputs": [],
   "source": [
    "let trace =\n",
    "    Bar(\n",
    "        x = categoryName,\n",
    "        y = categoryCount,\n",
    "        name= \"ArXiv Categories\"            \n",
    "    )"
   ]
  },
  {
   "cell_type": "code",
   "execution_count": 56,
   "metadata": {},
   "outputs": [],
   "source": [
    "let layout = Layout(title = \"Basic Bar Chart\")"
   ]
  },
  {
   "cell_type": "code",
   "execution_count": 57,
   "metadata": {},
   "outputs": [
    {
     "data": {
      "text/html": [
       "<div id=\"96874475-af38-40e5-ae78-8cd2282c7502\" style=\"width: 700px; height: 500px;\"></div>\r\n",
       "<script type=\"text/javascript\">\n",
       "\r\n",
       "var renderPlotly = function() {\r\n",
       "    var xplotRequire = require.config({context:'xplot-3.0.1',paths:{plotly:'https://cdn.plot.ly/plotly-1.49.2.min'}}) || require;\r\n",
       "    xplotRequire(['plotly'], function(Plotly) {\n",
       "\n",
       "            var data = [{\"type\":\"bar\",\"x\":[\"math.MP\",\"math-ph\",\"cs.LG\",\"quant-ph\",\"cond-mat.stat-mech\",\"hep-th\",\"stat.ML\",\"physics.comp-ph\",\"math.OC\",\"math.PR\",\"math.DS\",\"hep-ph\",\"cs.AI\",\"physics.soc-ph\",\"physics.data-an\",\"gr-qc\",\"math.CO\",\"nlin.CD\",\"math.NA\",\"cs.IT\",\"math.IT\",\"cs.CV\",\"physics.bio-ph\",\"cond-mat.mes-hall\",\"physics.flu-dyn\",\"cond-mat.dis-nn\",\"cond-mat.mtrl-sci\",\"cond-mat.soft\",\"physics.optics\",\"cs.SI\",\"cs.DS\",\"cs.SY\",\"math.AG\",\"math.DG\",\"physics.chem-ph\",\"nucl-th\",\"stat.AP\",\"q-bio.QM\",\"math.AP\",\"nlin.AO\",\"cs.DC\",\"cond-mat.str-el\",\"stat.TH\",\"math.ST\",\"cs.NE\",\"cond-mat.other\",\"math.FA\",\"physics.atom-ph\",\"cs.NA\",\"nlin.PS\",\"nlin.SI\",\"astro-ph.IM\",\"math.QA\",\"cs.DM\",\"math.RT\",\"cs.CR\",\"physics.plasm-ph\",\"stat.ME\",\"cs.CC\",\"eess.SP\",\"q-bio.PE\",\"physics.ins-det\",\"astro-ph\",\"math.CA\",\"astro-ph.CO\",\"cs.CE\",\"physics.class-ph\",\"q-bio.NC\",\"math.GR\",\"cond-mat.quant-gas\",\"math.NT\",\"cs.CL\",\"math.AT\",\"cs.CY\",\"astro-ph.SR\",\"astro-ph.HE\",\"cs.IR\",\"cs.LO\",\"hep-ex\",\"math.GT\",\"math.RA\",\"cs.NI\",\"cs.MA\",\"cond-mat.supr-con\",\"stat.CO\",\"cs.GT\",\"cs.RO\",\"hep-lat\",\"physics.geo-ph\",\"math.MG\",\"cs.HC\",\"math.SP\",\"math.OA\",\"physics.ao-ph\",\"physics.app-ph\",\"eess.IV\",\"q-bio.MN\",\"cs.CG\",\"astro-ph.EP\",\"cond-mat\",\"astro-ph.GA\",\"math.CT\",\"nucl-ex\",\"physics.med-ph\",\"math.CV\",\"math.SG\",\"eess.SY\",\"physics.space-ph\",\"cs.SE\",\"math.LO\",\"cs.DB\",\"math.AC\",\"q-bio.BM\",\"math.KT\",\"cs.PF\",\"physics.hist-ph\",\"cs.SD\",\"cs.MM\",\"q-fin.ST\",\"cs.MS\",\"physics.atm-clus\",\"q-bio.GN\",\"cs.ET\",\"physics.pop-ph\",\"nlin.CG\",\"cs.PL\",\"cs.SC\",\"cs.FL\",\"eess.AS\",\"cs.DL\",\"physics.gen-ph\",\"q-fin.GN\",\"cs.GR\",\"math.GN\",\"physics.acc-ph\",\"math.HO\",\"q-bio.CB\",\"q-fin.CP\",\"q-fin.EC\",\"q-bio.TO\",\"physics.ed-ph\",\"q-fin.RM\",\"chao-dyn\",\"q-bio.SC\",\"q-fin.TR\",\"q-fin.PM\",\"cs.AR\",\"q-bio.OT\",\"q-fin.PR\",\"stat.OT\",\"q-fin.MF\",\"econ.EM\",\"solv-int\",\"econ.GN\",\"q-bio\",\"cs.OH\",\"econ.TH\",\"adap-org\",\"math.GM\",\"patt-sol\",\"q-alg\",\"cs.OS\",\"funct-an\",\"cs.GL\",\"dg-ga\",\"comp-gas\",\"alg-geom\",\"chem-ph\",\"atom-ph\",\"supr-con\",\"mtrl-th\",\"plasm-ph\",\"bayes-an\",\"ao-sci\",\"acc-phys\",\"cmp-lg\"],\"y\":[6464,6464,6181,5252,5144,4844,4488,3193,3162,3107,2893,2888,2873,2660,2640,2594,2590,2488,2473,2460,2460,2340,2331,2273,2242,2200,2140,2096,2038,2034,2015,2010,1972,1961,1904,1889,1852,1839,1829,1800,1776,1650,1616,1616,1543,1536,1532,1520,1509,1506,1484,1469,1418,1410,1410,1405,1334,1330,1306,1292,1291,1287,1272,1266,1253,1233,1228,1213,1212,1211,1208,1205,1203,1174,1152,1148,1105,1101,1100,1086,1066,1066,1044,1042,1023,1023,1014,1005,988,985,973,929,910,878,873,861,843,842,840,838,826,825,818,802,770,767,729,716,700,697,688,679,655,626,616,615,605,567,567,562,557,548,547,537,525,524,521,477,473,470,466,462,459,453,448,447,436,417,404,404,396,370,357,317,317,314,290,286,269,268,264,257,255,235,215,201,172,167,156,153,123,110,95,92,75,68,63,58,45,25,22,12,7,6,5,4],\"name\":\"ArXiv Categories\"}];\n",
       "            var layout = {\"title\":\"Basic Bar Chart\"};\n",
       "            Plotly.newPlot('96874475-af38-40e5-ae78-8cd2282c7502', data, layout);\n",
       "        \n",
       "});\r\n",
       "};\r\n",
       "if ((typeof(require) !==  typeof(Function)) || (typeof(require.config) !== typeof(Function))) {\r\n",
       "    var script = document.createElement(\"script\"); \r\n",
       "    script.setAttribute(\"src\", \"https://cdnjs.cloudflare.com/ajax/libs/require.js/2.3.6/require.min.js\");\r\n",
       "    script.onload = function(){\r\n",
       "        renderPlotly();\r\n",
       "    };\r\n",
       "    document.getElementsByTagName(\"head\")[0].appendChild(script); \r\n",
       "}\r\n",
       "else {\r\n",
       "    renderPlotly();\r\n",
       "}\n",
       "</script>\n"
      ]
     },
     "execution_count": 57,
     "metadata": {},
     "output_type": "execute_result"
    }
   ],
   "source": [
    "[trace]\n",
    "|> Chart.Plot\n",
    "|> Chart.WithLayout layout\n",
    "|> Chart.WithHeight 500\n",
    "|> Chart.WithWidth 700"
   ]
  },
  {
   "cell_type": "markdown",
   "metadata": {},
   "source": [
    "##  Get the total number of  unique categories"
   ]
  },
  {
   "cell_type": "code",
   "execution_count": 12,
   "metadata": {},
   "outputs": [],
   "source": [
    "let totalCategories = \n",
    "    categories\n",
    "        .Select(Functions.Col(\"categories\"))\n",
    "        .Distinct()\n",
    "        .Count()"
   ]
  },
  {
   "cell_type": "code",
   "execution_count": 14,
   "metadata": {},
   "outputs": [
    {
     "data": {
      "text/html": [
       "<div class=\"dni-plaintext\">60303</div>"
      ]
     },
     "execution_count": 14,
     "metadata": {},
     "output_type": "execute_result"
    }
   ],
   "source": [
    "totalCategories"
   ]
  },
  {
   "cell_type": "markdown",
   "metadata": {},
   "source": [
    "## Published categories by year"
   ]
  },
  {
   "cell_type": "code",
   "execution_count": 42,
   "metadata": {},
   "outputs": [],
   "source": [
    "let categoriesByYear = \n",
    "    arxivData\n",
    "        .Select(Functions.Col(\"categories\"),Functions.Year(Functions.Col(\"update_date\")).Alias(\"year\"))\n",
    "        .GroupBy(Functions.Col(\"categories\"),Functions.Col(\"year\"))\n",
    "        .Count()\n",
    "        .OrderBy(Functions.Col(\"year\").Desc(),Functions.Col(\"categories\").Asc())"
   ]
  },
  {
   "cell_type": "code",
   "execution_count": 43,
   "metadata": {},
   "outputs": [
    {
     "name": "stdout",
     "output_type": "stream",
     "text": [
      "+--------------------+----+-----+\n",
      "|          categories|year|count|\n",
      "+--------------------+----+-----+\n",
      "|            astro-ph|2020|   21|\n",
      "|astro-ph gr-qc he...|2020|    1|\n",
      "|         astro-ph.CO|2020|  871|\n",
      "|astro-ph.CO astro...|2020|    1|\n",
      "|astro-ph.CO astro...|2020|    1|\n",
      "|astro-ph.CO astro...|2020|    1|\n",
      "|astro-ph.CO astro...|2020|  225|\n",
      "|astro-ph.CO astro...|2020|    4|\n",
      "|astro-ph.CO astro...|2020|    3|\n",
      "|astro-ph.CO astro...|2020|   17|\n",
      "+--------------------+----+-----+\n",
      "only showing top 10 rows\n",
      "\n"
     ]
    }
   ],
   "source": [
    "categoriesByYear.Show(10)"
   ]
  },
  {
   "cell_type": "code",
   "execution_count": 46,
   "metadata": {},
   "outputs": [],
   "source": [
    "let totalArticlesPerYear = \n",
    "    categoriesByYear\n",
    "        .GroupBy(Functions.Col(\"year\"))\n",
    "        .Count()\n",
    "        .OrderBy(Functions.Col(\"year\").Desc())"
   ]
  },
  {
   "cell_type": "code",
   "execution_count": 47,
   "metadata": {},
   "outputs": [
    {
     "name": "stdout",
     "output_type": "stream",
     "text": [
      "+----+-----+\n",
      "|year|count|\n",
      "+----+-----+\n",
      "|2020|16932|\n",
      "|2019|16097|\n",
      "|2018|12951|\n",
      "|2017|11501|\n",
      "|2016|11651|\n",
      "|2015|13665|\n",
      "|2014| 8873|\n",
      "|2013| 8220|\n",
      "|2012| 7361|\n",
      "|2011| 6966|\n",
      "+----+-----+\n",
      "only showing top 10 rows\n",
      "\n"
     ]
    }
   ],
   "source": [
    "totalArticlesPerYear.Show(10)"
   ]
  },
  {
   "cell_type": "code",
   "execution_count": 48,
   "metadata": {},
   "outputs": [
    {
     "data": {
      "text/html": [
       "<div class=\"dni-plaintext\">14</div>"
      ]
     },
     "execution_count": 48,
     "metadata": {},
     "output_type": "execute_result"
    }
   ],
   "source": [
    "totalArticlesPerYear\n",
    "    .Select(Functions.Col(\"year\"))\n",
    "    .Distinct()\n",
    "    .Count()"
   ]
  }
 ],
 "metadata": {
  "kernelspec": {
   "display_name": ".NET (F#)",
   "language": "F#",
   "name": ".net-fsharp"
  },
  "language_info": {
   "file_extension": ".fs",
   "mimetype": "text/x-fsharp",
   "name": "C#",
   "pygments_lexer": "fsharp",
   "version": "4.5"
  }
 },
 "nbformat": 4,
 "nbformat_minor": 4
}
