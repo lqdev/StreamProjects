{
 "cells": [
  {
   "cell_type": "code",
   "execution_count": 1,
   "metadata": {},
   "outputs": [
    {
     "data": {
      "text/html": [
       "\r\n",
       "<div>\r\n",
       "    <div id='dotnet-interactive-this-cell-4779.8eacd2a3814645e1b757e68a1db92d54' style='display: none'>\r\n",
       "        The below script needs to be able to find the current output cell; this is an easy method to get it.\r\n",
       "    </div>\r\n",
       "    <script type='text/javascript'>\r\n",
       "// ensure `require` is available globally\r\n",
       "if (typeof require !== typeof Function || typeof require.config !== typeof Function) {\r\n",
       "    let require_script = document.createElement('script');\r\n",
       "    require_script.setAttribute('src', 'https://cdnjs.cloudflare.com/ajax/libs/require.js/2.3.6/require.min.js');\r\n",
       "    require_script.setAttribute('type', 'text/javascript');\r\n",
       "    require_script.onload = function () {\r\n",
       "        loadDotnetInteractiveApi();\r\n",
       "    };\r\n",
       "\r\n",
       "    document.getElementsByTagName('head')[0].appendChild(require_script);\r\n",
       "}\r\n",
       "else {\r\n",
       "    loadDotnetInteractiveApi();\r\n",
       "}\r\n",
       "\r\n",
       "async function probeAddresses(probingAddresses) {\r\n",
       "    function timeout(ms, promise) {\r\n",
       "        return new Promise(function (resolve, reject) {\r\n",
       "            setTimeout(function () {\r\n",
       "                reject(new Error('timeout'))\r\n",
       "            }, ms)\r\n",
       "            promise.then(resolve, reject)\r\n",
       "        })\r\n",
       "    }\r\n",
       "\r\n",
       "    if (Array.isArray(probingAddresses)) {\r\n",
       "        for (let i = 0; i < probingAddresses.length; i++) {\r\n",
       "\r\n",
       "            let rootUrl = probingAddresses[i];\r\n",
       "\r\n",
       "            if (!rootUrl.endsWith('/')) {\r\n",
       "                rootUrl = `${rootUrl}/`;\r\n",
       "            }\r\n",
       "\r\n",
       "            try {\r\n",
       "                let response = await timeout(1000, fetch(`${rootUrl}discovery`, {\r\n",
       "                    method: 'POST',\r\n",
       "                    cache: 'no-cache',\r\n",
       "                    mode: 'cors',\r\n",
       "                    timeout: 1000,\r\n",
       "                    headers: {\r\n",
       "                        'Content-Type': 'text/plain'\r\n",
       "                    },\r\n",
       "                    body: probingAddresses[i]\r\n",
       "                }));\r\n",
       "\r\n",
       "                if (response.status == 200) {\r\n",
       "                    return rootUrl;\r\n",
       "                }\r\n",
       "            }\r\n",
       "            catch (e) { }\r\n",
       "        }\r\n",
       "    }\r\n",
       "}\r\n",
       "\r\n",
       "function loadDotnetInteractiveApi() {\r\n",
       "    probeAddresses([\"http://10.0.0.4:1024/\", \"http://127.0.0.1:1024/\"])\r\n",
       "        .then((root) => {\r\n",
       "            // use probing to find host url and api resources\r\n",
       "            // load interactive helpers and language services\r\n",
       "            let dotnetInteractiveRequire = require.config({\r\n",
       "                context: '4779.8eacd2a3814645e1b757e68a1db92d54',\r\n",
       "                paths: {\r\n",
       "                    'dotnet-interactive': `${root}resources`\r\n",
       "                }\r\n",
       "            }) || require;\r\n",
       "\r\n",
       "            let dotnetInteractiveExtensionsRequire = require.config({\r\n",
       "                context: '4779.8eacd2a3814645e1b757e68a1db92d54',\r\n",
       "                paths: {\r\n",
       "                    'dotnet-interactive-extensions': `${root}extensions`\r\n",
       "                }\r\n",
       "            }) || require;\r\n",
       "\r\n",
       "            if (!window.dotnetInteractiveRequire) {\r\n",
       "                window.dotnetInteractiveRequire = dotnetInteractiveRequire;\r\n",
       "            }\r\n",
       "\r\n",
       "            if (!window.dotnetInteractiveExtensionsRequire) {\r\n",
       "                window.dotnetInteractiveExtensionsRequire = dotnetInteractiveExtensionsRequire;\r\n",
       "            }\r\n",
       "\r\n",
       "            window.getExtensionRequire = function(extensionName, extensionCacheBuster) {\r\n",
       "                let paths = {};\r\n",
       "                paths[extensionName] = `${root}extensions/${extensionName}/resources/`;\r\n",
       "                \r\n",
       "                let internalRequire = require.config({\r\n",
       "                    context: extensionCacheBuster,\r\n",
       "                    paths: paths,\r\n",
       "                    urlArgs: `cacheBuster=${extensionCacheBuster}`\r\n",
       "                    }) || require;\r\n",
       "\r\n",
       "                return internalRequire\r\n",
       "            };\r\n",
       "        \r\n",
       "            dotnetInteractiveRequire([\r\n",
       "                    'dotnet-interactive/dotnet-interactive'\r\n",
       "                ],\r\n",
       "                function (dotnet) {\r\n",
       "                    dotnet.init(window);\r\n",
       "                },\r\n",
       "                function (error) {\r\n",
       "                    console.log(error);\r\n",
       "                }\r\n",
       "            );\r\n",
       "        })\r\n",
       "        .catch(error => {console.log(error);});\r\n",
       "    }\r\n",
       "    </script>\r\n",
       "</div>"
      ]
     },
     "metadata": {},
     "output_type": "display_data"
    },
    {
     "data": {
      "text/plain": [
       "Installed package Microsoft.Spark version 0.12.1"
      ]
     },
     "metadata": {},
     "output_type": "display_data"
    }
   ],
   "source": [
    "#r \"nuget:Microsoft.Spark,0.12.1\""
   ]
  },
  {
   "cell_type": "markdown",
   "metadata": {},
   "source": [
    "##  Import Spark packages"
   ]
  },
  {
   "cell_type": "code",
   "execution_count": 2,
   "metadata": {},
   "outputs": [],
   "source": [
    "open Microsoft.Spark\n",
    "open Microsoft.Spark.Sql"
   ]
  },
  {
   "cell_type": "markdown",
   "metadata": {},
   "source": [
    "## Define data path"
   ]
  },
  {
   "cell_type": "code",
   "execution_count": 3,
   "metadata": {},
   "outputs": [],
   "source": [
    "let DATA_DIR = \"/datadrive/Data/Kaggle/arxiv-metadata-oai-snapshot-2020-08-14.json\""
   ]
  },
  {
   "cell_type": "markdown",
   "metadata": {},
   "source": [
    "## Initialize spark session"
   ]
  },
  {
   "cell_type": "code",
   "execution_count": 4,
   "metadata": {},
   "outputs": [
    {
     "name": "stdout",
     "output_type": "stream",
     "text": [
      "[2020-10-05T14:19:18.0495643Z] [fsharp-analytics-vm] [Info] [ConfigurationService] 'DOTNETBACKEND_PORT' environment variable is not set.\n",
      "[2020-10-05T14:19:18.0530161Z] [fsharp-analytics-vm] [Info] [ConfigurationService] Using port 5567 for connection.\n",
      "[2020-10-05T14:19:18.0536339Z] [fsharp-analytics-vm] [Info] [JvmBridge] JvMBridge port is 5567\n"
     ]
    }
   ],
   "source": [
    "let sparkSession = \n",
    "    SparkSession\n",
    "        .Builder()\n",
    "        .AppName(\"arxiv-analytics\")\n",
    "        .GetOrCreate()"
   ]
  },
  {
   "cell_type": "markdown",
   "metadata": {},
   "source": [
    "## Load data"
   ]
  },
  {
   "cell_type": "code",
   "execution_count": 7,
   "metadata": {},
   "outputs": [],
   "source": [
    "let arxivData = \n",
    "    sparkSession\n",
    "        .Read()\n",
    "        .Option(\"inferSchema\",true)\n",
    "        .Json([|DATA_DIR|])"
   ]
  },
  {
   "cell_type": "markdown",
   "metadata": {},
   "source": [
    "##  Display column names"
   ]
  },
  {
   "cell_type": "code",
   "execution_count": 8,
   "metadata": {},
   "outputs": [
    {
     "data": {
      "text/html": [
       "<table><thead><tr><th><i>index</i></th><th>value</th></tr></thead><tbody><tr><td>0</td><td><div class=\"dni-plaintext\">abstract</div></td></tr><tr><td>1</td><td><div class=\"dni-plaintext\">authors</div></td></tr><tr><td>2</td><td><div class=\"dni-plaintext\">authors_parsed</div></td></tr><tr><td>3</td><td><div class=\"dni-plaintext\">categories</div></td></tr><tr><td>4</td><td><div class=\"dni-plaintext\">comments</div></td></tr><tr><td>5</td><td><div class=\"dni-plaintext\">doi</div></td></tr><tr><td>6</td><td><div class=\"dni-plaintext\">id</div></td></tr><tr><td>7</td><td><div class=\"dni-plaintext\">journal-ref</div></td></tr><tr><td>8</td><td><div class=\"dni-plaintext\">license</div></td></tr><tr><td>9</td><td><div class=\"dni-plaintext\">report-no</div></td></tr><tr><td>10</td><td><div class=\"dni-plaintext\">submitter</div></td></tr><tr><td>11</td><td><div class=\"dni-plaintext\">title</div></td></tr><tr><td>12</td><td><div class=\"dni-plaintext\">update_date</div></td></tr><tr><td>13</td><td><div class=\"dni-plaintext\">versions</div></td></tr></tbody></table>"
      ]
     },
     "execution_count": 8,
     "metadata": {},
     "output_type": "execute_result"
    }
   ],
   "source": [
    "arxivData.Columns()"
   ]
  },
  {
   "cell_type": "markdown",
   "metadata": {},
   "source": [
    "## Display DataFrame schema"
   ]
  },
  {
   "cell_type": "code",
   "execution_count": 9,
   "metadata": {},
   "outputs": [
    {
     "name": "stdout",
     "output_type": "stream",
     "text": [
      "root\n",
      " |-- abstract: string (nullable = true)\n",
      " |-- authors: string (nullable = true)\n",
      " |-- authors_parsed: array (nullable = true)\n",
      " |    |-- element: array (containsNull = true)\n",
      " |    |    |-- element: string (containsNull = true)\n",
      " |-- categories: string (nullable = true)\n",
      " |-- comments: string (nullable = true)\n",
      " |-- doi: string (nullable = true)\n",
      " |-- id: string (nullable = true)\n",
      " |-- journal-ref: string (nullable = true)\n",
      " |-- license: string (nullable = true)\n",
      " |-- report-no: string (nullable = true)\n",
      " |-- submitter: string (nullable = true)\n",
      " |-- title: string (nullable = true)\n",
      " |-- update_date: string (nullable = true)\n",
      " |-- versions: array (nullable = true)\n",
      " |    |-- element: struct (containsNull = true)\n",
      " |    |    |-- created: string (nullable = true)\n",
      " |    |    |-- version: string (nullable = true)\n",
      "\n"
     ]
    }
   ],
   "source": [
    "arxivData.PrintSchema()"
   ]
  },
  {
   "cell_type": "markdown",
   "metadata": {},
   "source": [
    "## Count number of articles"
   ]
  },
  {
   "cell_type": "code",
   "execution_count": 16,
   "metadata": {},
   "outputs": [],
   "source": [
    "let articleCount = \n",
    "    arxivData\n",
    "        .Select(\n",
    "            Functions.Count(Functions.Col(\"id\")).Alias(\"articles\"),\n",
    "            Functions.CountDistinct(Functions.Col(\"id\")).Alias(\"distinct_articles\"))"
   ]
  },
  {
   "cell_type": "code",
   "execution_count": 17,
   "metadata": {},
   "outputs": [
    {
     "name": "stdout",
     "output_type": "stream",
     "text": [
      "+--------+-----------------+\n",
      "|articles|distinct_articles|\n",
      "+--------+-----------------+\n",
      "| 1747307|          1747307|\n",
      "+--------+-----------------+\n",
      "\n"
     ]
    }
   ],
   "source": [
    "articleCount.Show()"
   ]
  },
  {
   "cell_type": "markdown",
   "metadata": {},
   "source": [
    "## Get the category count in descending order"
   ]
  },
  {
   "cell_type": "code",
   "execution_count": 41,
   "metadata": {},
   "outputs": [],
   "source": [
    "let categories = \n",
    "    arxivData\n",
    "        .Select(Functions.Col(\"id\"),Functions.Col(\"categories\").Alias(\"categories\"))\n",
    "        .GroupBy(Functions.Col(\"id\"), Functions.Col(\"categories\"))\n",
    "        .Count()\n",
    "        .OrderBy(Functions.Col(\"count\").Desc())"
   ]
  },
  {
   "cell_type": "code",
   "execution_count": 42,
   "metadata": {},
   "outputs": [
    {
     "name": "stdout",
     "output_type": "stream",
     "text": [
      "+---------+--------------------+-----+\n",
      "|       id|          categories|count|\n",
      "+---------+--------------------+-----+\n",
      "|0704.0042|physics.gen-ph qu...|    1|\n",
      "|0704.0140|              hep-th|    1|\n",
      "|0704.0176|cond-mat.other co...|    1|\n",
      "|0704.0560|physics.atom-ph p...|    1|\n",
      "|0704.0585|cond-mat.mtrl-sci...|    1|\n",
      "|0704.0599|cond-mat.supr-con...|    1|\n",
      "|0704.0742|cond-mat.dis-nn c...|    1|\n",
      "|0704.0933|     cond-mat.str-el|    1|\n",
      "|0704.1127|            astro-ph|    1|\n",
      "|0704.1567|               gr-qc|    1|\n",
      "|0704.1811|   q-bio.QM q-bio.PE|    1|\n",
      "|0704.1930|               gr-qc|    1|\n",
      "|0704.2173|physics.optics ph...|    1|\n",
      "|0704.2230|              hep-th|    1|\n",
      "|0704.2324|      physics.soc-ph|    1|\n",
      "|0704.2348|cond-mat.other co...|    1|\n",
      "|0704.2383|       cs.IT math.IT|    1|\n",
      "|0704.2481|     math.HO math.CO|    1|\n",
      "|0704.2870|             math.AG|    1|\n",
      "|0704.3444|       cond-mat.soft|    1|\n",
      "+---------+--------------------+-----+\n",
      "only showing top 20 rows\n",
      "\n"
     ]
    }
   ],
   "source": [
    "categories.Show()"
   ]
  },
  {
   "cell_type": "markdown",
   "metadata": {},
   "source": [
    "### Total number of distinct categories"
   ]
  },
  {
   "cell_type": "code",
   "execution_count": 43,
   "metadata": {},
   "outputs": [
    {
     "data": {
      "text/html": [
       "<div class=\"dni-plaintext\">60303</div>"
      ]
     },
     "execution_count": 43,
     "metadata": {},
     "output_type": "execute_result"
    }
   ],
   "source": [
    "let totalDistinctCategories = \n",
    "    categories\n",
    "        .Select(Functions.Col(\"categories\"))\n",
    "        .Distinct()\n",
    "        .Count()\n",
    "\n",
    "totalDistinctCategories"
   ]
  },
  {
   "cell_type": "markdown",
   "metadata": {},
   "source": [
    "### Categories more than or equal to 1k articles"
   ]
  },
  {
   "cell_type": "code",
   "execution_count": 44,
   "metadata": {},
   "outputs": [],
   "source": [
    "let categoriesGtEq1k = \n",
    "    categories\n",
    "        .Filter(Functions.Col(\"count\").Gt(999))"
   ]
  },
  {
   "cell_type": "code",
   "execution_count": null,
   "metadata": {},
   "outputs": [],
   "source": [
    "categoriesGtEq1k.Show(10)"
   ]
  },
  {
   "cell_type": "code",
   "execution_count": 45,
   "metadata": {},
   "outputs": [],
   "source": [
    "let totalCategoriesGtEq1k = \n",
    "    categoriesGtEq1k\n",
    "        .Agg(Functions.CountDistinct(Functions.Col(\"categories\")))"
   ]
  },
  {
   "cell_type": "code",
   "execution_count": null,
   "metadata": {},
   "outputs": [],
   "source": [
    "totalCategoriesGtEq1k.Show()"
   ]
  },
  {
   "cell_type": "markdown",
   "metadata": {},
   "source": [
    "### Categories with less than 1k articles"
   ]
  },
  {
   "cell_type": "code",
   "execution_count": 46,
   "metadata": {},
   "outputs": [],
   "source": [
    "let categoriesLessThan1k = \n",
    "    categories\n",
    "        .Filter(Functions.Col(\"count\").Lt(1000))"
   ]
  },
  {
   "cell_type": "code",
   "execution_count": 37,
   "metadata": {},
   "outputs": [
    {
     "name": "stdout",
     "output_type": "stream",
     "text": [
      "+--------------------+-----+\n",
      "|          categories|count|\n",
      "+--------------------+-----+\n",
      "|hep-ph hep-ex nuc...|  997|\n",
      "|      physics.bio-ph|  993|\n",
      "|     math.PR math.CO|  990|\n",
      "|     math.AC math.AG|  982|\n",
      "|physics.app-ph co...|  974|\n",
      "|   astro-ph.HE gr-qc|  960|\n",
      "|hep-th astro-ph.C...|  950|\n",
      "|            q-bio.QM|  950|\n",
      "|     math.AP math.DG|  950|\n",
      "|      hep-lat hep-th|  945|\n",
      "+--------------------+-----+\n",
      "only showing top 10 rows\n",
      "\n"
     ]
    }
   ],
   "source": [
    "categoriesLessThan1k.Show(10)"
   ]
  },
  {
   "cell_type": "markdown",
   "metadata": {},
   "source": [
    "### Total distinct categories with less than 1k articles"
   ]
  },
  {
   "cell_type": "code",
   "execution_count": 47,
   "metadata": {},
   "outputs": [],
   "source": [
    "let totalCategoriesLessThan1k = \n",
    "    categoriesLessThan1k\n",
    "        .Agg(Functions.CountDistinct(Functions.Col(\"categories\")))"
   ]
  },
  {
   "cell_type": "code",
   "execution_count": null,
   "metadata": {},
   "outputs": [],
   "source": [
    "totalCategoriesLessThan1k.Show()"
   ]
  },
  {
   "cell_type": "code",
   "execution_count": 51,
   "metadata": {},
   "outputs": [],
   "source": [
    "let flattenedCategories = \n",
    "    categories\n",
    "        .Select(Functions.Col(\"id\"), Functions.Split(Functions.Col(\"categories\"),\" \").Alias(\"multiplecategories\"))\n",
    "        .Select(Functions.Col(\"id\"), Functions.Explode(Functions.Col(\"multiplecategories\")).Alias(\"category\"))\n",
    "        .GroupBy(Functions.Col(\"id\"),Functions.Col(\"category\"))\n",
    "        .Count()\n",
    "        .OrderBy(Functions.Col(\"count\").Desc())"
   ]
  },
  {
   "cell_type": "code",
   "execution_count": 52,
   "metadata": {},
   "outputs": [
    {
     "name": "stdout",
     "output_type": "stream",
     "text": [
      "+---------+---------------+-----+\n",
      "|       id|       category|count|\n",
      "+---------+---------------+-----+\n",
      "|0704.0140|         hep-th|    1|\n",
      "|0704.0933|cond-mat.str-el|    1|\n",
      "|0704.1127|       astro-ph|    1|\n",
      "|0704.1567|          gr-qc|    1|\n",
      "|0704.1930|          gr-qc|    1|\n",
      "|0704.2230|         hep-th|    1|\n",
      "|0704.2324| physics.soc-ph|    1|\n",
      "|0704.2870|        math.AG|    1|\n",
      "|0704.3444|  cond-mat.soft|    1|\n",
      "|0704.3968|         hep-ph|    1|\n",
      "+---------+---------------+-----+\n",
      "only showing top 10 rows\n",
      "\n"
     ]
    }
   ],
   "source": [
    "flattenedCategories.Show(10)"
   ]
  },
  {
   "cell_type": "code",
   "execution_count": 53,
   "metadata": {},
   "outputs": [
    {
     "data": {
      "text/html": [
       "<div class=\"dni-plaintext\">176</div>"
      ]
     },
     "execution_count": 53,
     "metadata": {},
     "output_type": "execute_result"
    }
   ],
   "source": [
    "flattenedCategories\n",
    "    .Select(Functions.Col(\"category\"))\n",
    "    .Distinct()\n",
    "    .Count()"
   ]
  },
  {
   "cell_type": "code",
   "execution_count": 55,
   "metadata": {},
   "outputs": [],
   "source": [
    "let flattenedCategoryCounts =\n",
    "    flattenedCategories\n",
    "        .Select(Functions.Col(\"category\"))\n",
    "        .GroupBy(Functions.Col(\"category\"))\n",
    "        .Count()\n",
    "        .OrderBy(Functions.Col(\"count\").Desc())"
   ]
  },
  {
   "cell_type": "code",
   "execution_count": 56,
   "metadata": {},
   "outputs": [
    {
     "name": "stdout",
     "output_type": "stream",
     "text": [
      "+------------------+------+\n",
      "|          category| count|\n",
      "+------------------+------+\n",
      "|            hep-ph|151526|\n",
      "|            hep-th|138496|\n",
      "|          quant-ph|105728|\n",
      "|          astro-ph|105380|\n",
      "|             gr-qc| 83270|\n",
      "| cond-mat.mes-hall| 69440|\n",
      "| cond-mat.mtrl-sci| 65658|\n",
      "|             cs.LG| 62754|\n",
      "|           math.MP| 62417|\n",
      "|           math-ph| 62417|\n",
      "|cond-mat.stat-mech| 59239|\n",
      "|   cond-mat.str-el| 57498|\n",
      "|       astro-ph.CO| 51733|\n",
      "|           nucl-th| 47746|\n",
      "|           math.CO| 46221|\n",
      "|             cs.CV| 44813|\n",
      "|       astro-ph.SR| 43806|\n",
      "|           stat.ML| 43711|\n",
      "|       astro-ph.GA| 42638|\n",
      "|           math.AP| 42124|\n",
      "+------------------+------+\n",
      "only showing top 20 rows\n",
      "\n"
     ]
    }
   ],
   "source": [
    "flattenedCategoryCounts.Show()"
   ]
  },
  {
   "cell_type": "code",
   "execution_count": 60,
   "metadata": {},
   "outputs": [
    {
     "name": "stdout",
     "output_type": "stream",
     "text": [
      "+------------------+\n",
      "|count(DISTINCT id)|\n",
      "+------------------+\n",
      "|           1747307|\n",
      "+------------------+\n",
      "\n"
     ]
    }
   ],
   "source": [
    "flattenedCategories\n",
    "    .Agg(Functions.CountDistinct(Functions.Col(\"id\")))\n",
    "    .Show()"
   ]
  },
  {
   "cell_type": "code",
   "execution_count": 64,
   "metadata": {},
   "outputs": [],
   "source": [
    "let flattenedDistinctCategories = \n",
    "    flattenedCategories\n",
    "        .DropDuplicates(\"id\")"
   ]
  },
  {
   "cell_type": "code",
   "execution_count": 65,
   "metadata": {},
   "outputs": [
    {
     "name": "stdout",
     "output_type": "stream",
     "text": [
      "+---------+\n",
      "|count(id)|\n",
      "+---------+\n",
      "|  1747307|\n",
      "+---------+\n",
      "\n"
     ]
    }
   ],
   "source": [
    "flattenedDistinctCategories.Agg(Functions.Count(Functions.Col(\"id\"))).Show()"
   ]
  },
  {
   "cell_type": "markdown",
   "metadata": {},
   "source": [
    "### Convert categories DataFrame to IEnumerable"
   ]
  },
  {
   "cell_type": "code",
   "execution_count": 66,
   "metadata": {},
   "outputs": [],
   "source": [
    "let categoriesIEnumerable = flattenedDistinctCategories.Collect()"
   ]
  },
  {
   "cell_type": "code",
   "execution_count": 67,
   "metadata": {},
   "outputs": [],
   "source": [
    "open System"
   ]
  },
  {
   "cell_type": "markdown",
   "metadata": {},
   "source": [
    "### Get category name and count columns"
   ]
  },
  {
   "cell_type": "code",
   "execution_count": 68,
   "metadata": {},
   "outputs": [],
   "source": [
    "let categoryName = \n",
    "    flattenedDistinctCategories\n",
    "        .Select(Functions.Col(\"category\"))\n",
    "        .Collect()\n",
    "        |> Seq.map(fun row -> row.[0].ToString())"
   ]
  },
  {
   "cell_type": "code",
   "execution_count": 69,
   "metadata": {},
   "outputs": [],
   "source": [
    "let categoryCount = \n",
    "    flattenedDistinctCategories\n",
    "        .Select(Functions.Col(\"count\"))\n",
    "        .Collect()\n",
    "        |> Seq.map(fun row -> row.[0].ToString() |> Int32.Parse)"
   ]
  },
  {
   "cell_type": "markdown",
   "metadata": {},
   "source": [
    "### Plot categories"
   ]
  },
  {
   "cell_type": "code",
   "execution_count": 70,
   "metadata": {},
   "outputs": [
    {
     "data": {
      "text/plain": [
       "Installed package XPlot.Plotly version 3.0.1"
      ]
     },
     "metadata": {},
     "output_type": "display_data"
    }
   ],
   "source": [
    "#r \"nuget:XPlot.Plotly\""
   ]
  },
  {
   "cell_type": "code",
   "execution_count": 71,
   "metadata": {},
   "outputs": [],
   "source": [
    "open XPlot\n",
    "open XPlot.Plotly"
   ]
  },
  {
   "cell_type": "code",
   "execution_count": 72,
   "metadata": {},
   "outputs": [],
   "source": [
    "let trace =\n",
    "    Bar(\n",
    "        x = categoryName,\n",
    "        y = categoryCount,\n",
    "        name= \"ArXiv Categories\"            \n",
    "    )"
   ]
  },
  {
   "cell_type": "code",
   "execution_count": 73,
   "metadata": {},
   "outputs": [],
   "source": [
    "let layout = Layout(title = \"Basic Bar Chart\")"
   ]
  },
  {
   "cell_type": "code",
   "execution_count": null,
   "metadata": {},
   "outputs": [],
   "source": [
    "[trace]\n",
    "|> Chart.Plot\n",
    "|> Chart.WithLayout layout\n",
    "|> Chart.WithHeight 500\n",
    "|> Chart.WithWidth 700"
   ]
  },
  {
   "cell_type": "markdown",
   "metadata": {},
   "source": [
    "##  Get the total number of  unique categories"
   ]
  },
  {
   "cell_type": "code",
   "execution_count": 12,
   "metadata": {},
   "outputs": [],
   "source": [
    "let totalCategories = \n",
    "    categories\n",
    "        .Select(Functions.Col(\"categories\"))\n",
    "        .Distinct()\n",
    "        .Count()"
   ]
  },
  {
   "cell_type": "code",
   "execution_count": 14,
   "metadata": {},
   "outputs": [
    {
     "data": {
      "text/html": [
       "<div class=\"dni-plaintext\">60303</div>"
      ]
     },
     "execution_count": 14,
     "metadata": {},
     "output_type": "execute_result"
    }
   ],
   "source": [
    "totalCategories"
   ]
  },
  {
   "cell_type": "markdown",
   "metadata": {},
   "source": [
    "## Published categories by year"
   ]
  },
  {
   "cell_type": "code",
   "execution_count": 42,
   "metadata": {},
   "outputs": [],
   "source": [
    "let categoriesByYear = \n",
    "    arxivData\n",
    "        .Select(Functions.Col(\"categories\"),Functions.Year(Functions.Col(\"update_date\")).Alias(\"year\"))\n",
    "        .GroupBy(Functions.Col(\"categories\"),Functions.Col(\"year\"))\n",
    "        .Count()\n",
    "        .OrderBy(Functions.Col(\"year\").Desc(),Functions.Col(\"categories\").Asc())"
   ]
  },
  {
   "cell_type": "code",
   "execution_count": 43,
   "metadata": {},
   "outputs": [
    {
     "name": "stdout",
     "output_type": "stream",
     "text": [
      "+--------------------+----+-----+\n",
      "|          categories|year|count|\n",
      "+--------------------+----+-----+\n",
      "|            astro-ph|2020|   21|\n",
      "|astro-ph gr-qc he...|2020|    1|\n",
      "|         astro-ph.CO|2020|  871|\n",
      "|astro-ph.CO astro...|2020|    1|\n",
      "|astro-ph.CO astro...|2020|    1|\n",
      "|astro-ph.CO astro...|2020|    1|\n",
      "|astro-ph.CO astro...|2020|  225|\n",
      "|astro-ph.CO astro...|2020|    4|\n",
      "|astro-ph.CO astro...|2020|    3|\n",
      "|astro-ph.CO astro...|2020|   17|\n",
      "+--------------------+----+-----+\n",
      "only showing top 10 rows\n",
      "\n"
     ]
    }
   ],
   "source": [
    "categoriesByYear.Show(10)"
   ]
  },
  {
   "cell_type": "code",
   "execution_count": 46,
   "metadata": {},
   "outputs": [],
   "source": [
    "let totalArticlesPerYear = \n",
    "    categoriesByYear\n",
    "        .GroupBy(Functions.Col(\"year\"))\n",
    "        .Count()\n",
    "        .OrderBy(Functions.Col(\"year\").Desc())"
   ]
  },
  {
   "cell_type": "code",
   "execution_count": 47,
   "metadata": {},
   "outputs": [
    {
     "name": "stdout",
     "output_type": "stream",
     "text": [
      "+----+-----+\n",
      "|year|count|\n",
      "+----+-----+\n",
      "|2020|16932|\n",
      "|2019|16097|\n",
      "|2018|12951|\n",
      "|2017|11501|\n",
      "|2016|11651|\n",
      "|2015|13665|\n",
      "|2014| 8873|\n",
      "|2013| 8220|\n",
      "|2012| 7361|\n",
      "|2011| 6966|\n",
      "+----+-----+\n",
      "only showing top 10 rows\n",
      "\n"
     ]
    }
   ],
   "source": [
    "totalArticlesPerYear.Show(10)"
   ]
  },
  {
   "cell_type": "code",
   "execution_count": 48,
   "metadata": {},
   "outputs": [
    {
     "data": {
      "text/html": [
       "<div class=\"dni-plaintext\">14</div>"
      ]
     },
     "execution_count": 48,
     "metadata": {},
     "output_type": "execute_result"
    }
   ],
   "source": [
    "totalArticlesPerYear\n",
    "    .Select(Functions.Col(\"year\"))\n",
    "    .Distinct()\n",
    "    .Count()"
   ]
  }
 ],
 "metadata": {
  "kernelspec": {
   "display_name": ".NET (F#)",
   "language": "F#",
   "name": ".net-fsharp"
  },
  "language_info": {
   "file_extension": ".fs",
   "mimetype": "text/x-fsharp",
   "name": "C#",
   "pygments_lexer": "fsharp",
   "version": "4.5"
  }
 },
 "nbformat": 4,
 "nbformat_minor": 4
}
