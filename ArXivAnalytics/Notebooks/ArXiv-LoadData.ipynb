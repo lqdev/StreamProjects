{
 "cells": [
  {
   "cell_type": "markdown",
   "metadata": {},
   "source": [
    "## Install Microsoft.Spark NuGet package"
   ]
  },
  {
   "cell_type": "code",
   "execution_count": 1,
   "metadata": {},
   "outputs": [
    {
     "data": {
      "text/html": [
       "\r\n",
       "<div>\r\n",
       "    <div id='dotnet-interactive-this-cell-12902.7efadb8cf2ee4eccbd95501f0c3c7de5' style='display: none'>\r\n",
       "        The below script needs to be able to find the current output cell; this is an easy method to get it.\r\n",
       "    </div>\r\n",
       "    <script type='text/javascript'>\r\n",
       "// ensure `require` is available globally\r\n",
       "if (typeof require !== typeof Function || typeof require.config !== typeof Function) {\r\n",
       "    let require_script = document.createElement('script');\r\n",
       "    require_script.setAttribute('src', 'https://cdnjs.cloudflare.com/ajax/libs/require.js/2.3.6/require.min.js');\r\n",
       "    require_script.setAttribute('type', 'text/javascript');\r\n",
       "    require_script.onload = function () {\r\n",
       "        loadDotnetInteractiveApi();\r\n",
       "    };\r\n",
       "\r\n",
       "    document.getElementsByTagName('head')[0].appendChild(require_script);\r\n",
       "}\r\n",
       "else {\r\n",
       "    loadDotnetInteractiveApi();\r\n",
       "}\r\n",
       "\r\n",
       "async function probeAddresses(probingAddresses) {\r\n",
       "    function timeout(ms, promise) {\r\n",
       "        return new Promise(function (resolve, reject) {\r\n",
       "            setTimeout(function () {\r\n",
       "                reject(new Error('timeout'))\r\n",
       "            }, ms)\r\n",
       "            promise.then(resolve, reject)\r\n",
       "        })\r\n",
       "    }\r\n",
       "\r\n",
       "    if (Array.isArray(probingAddresses)) {\r\n",
       "        for (let i = 0; i < probingAddresses.length; i++) {\r\n",
       "\r\n",
       "            let rootUrl = probingAddresses[i];\r\n",
       "\r\n",
       "            if (!rootUrl.endsWith('/')) {\r\n",
       "                rootUrl = `${rootUrl}/`;\r\n",
       "            }\r\n",
       "\r\n",
       "            try {\r\n",
       "                let response = await timeout(1000, fetch(`${rootUrl}discovery`, {\r\n",
       "                    method: 'POST',\r\n",
       "                    cache: 'no-cache',\r\n",
       "                    mode: 'cors',\r\n",
       "                    timeout: 1000,\r\n",
       "                    headers: {\r\n",
       "                        'Content-Type': 'text/plain'\r\n",
       "                    },\r\n",
       "                    body: probingAddresses[i]\r\n",
       "                }));\r\n",
       "\r\n",
       "                if (response.status == 200) {\r\n",
       "                    return rootUrl;\r\n",
       "                }\r\n",
       "            }\r\n",
       "            catch (e) { }\r\n",
       "        }\r\n",
       "    }\r\n",
       "}\r\n",
       "\r\n",
       "function loadDotnetInteractiveApi() {\r\n",
       "    probeAddresses([\"http://10.0.0.4:1025/\", \"http://127.0.0.1:1025/\"])\r\n",
       "        .then((root) => {\r\n",
       "            // use probing to find host url and api resources\r\n",
       "            // load interactive helpers and language services\r\n",
       "            let dotnetInteractiveRequire = require.config({\r\n",
       "                context: '12902.7efadb8cf2ee4eccbd95501f0c3c7de5',\r\n",
       "                paths: {\r\n",
       "                    'dotnet-interactive': `${root}resources`\r\n",
       "                }\r\n",
       "            }) || require;\r\n",
       "\r\n",
       "            let dotnetInteractiveExtensionsRequire = require.config({\r\n",
       "                context: '12902.7efadb8cf2ee4eccbd95501f0c3c7de5',\r\n",
       "                paths: {\r\n",
       "                    'dotnet-interactive-extensions': `${root}extensions`\r\n",
       "                }\r\n",
       "            }) || require;\r\n",
       "\r\n",
       "            if (!window.dotnetInteractiveRequire) {\r\n",
       "                window.dotnetInteractiveRequire = dotnetInteractiveRequire;\r\n",
       "            }\r\n",
       "\r\n",
       "            if (!window.dotnetInteractiveExtensionsRequire) {\r\n",
       "                window.dotnetInteractiveExtensionsRequire = dotnetInteractiveExtensionsRequire;\r\n",
       "            }\r\n",
       "\r\n",
       "            window.getExtensionRequire = function(extensionName, extensionCacheBuster) {\r\n",
       "                let paths = {};\r\n",
       "                paths[extensionName] = `${root}extensions/${extensionName}/resources/`;\r\n",
       "                \r\n",
       "                let internalRequire = require.config({\r\n",
       "                    context: extensionCacheBuster,\r\n",
       "                    paths: paths,\r\n",
       "                    urlArgs: `cacheBuster=${extensionCacheBuster}`\r\n",
       "                    }) || require;\r\n",
       "\r\n",
       "                return internalRequire\r\n",
       "            };\r\n",
       "        \r\n",
       "            dotnetInteractiveRequire([\r\n",
       "                    'dotnet-interactive/dotnet-interactive'\r\n",
       "                ],\r\n",
       "                function (dotnet) {\r\n",
       "                    dotnet.init(window);\r\n",
       "                },\r\n",
       "                function (error) {\r\n",
       "                    console.log(error);\r\n",
       "                }\r\n",
       "            );\r\n",
       "        })\r\n",
       "        .catch(error => {console.log(error);});\r\n",
       "    }\r\n",
       "    </script>\r\n",
       "</div>"
      ]
     },
     "metadata": {},
     "output_type": "display_data"
    },
    {
     "data": {
      "text/plain": [
       "Installed package Microsoft.Spark version 0.12.1"
      ]
     },
     "metadata": {},
     "output_type": "display_data"
    }
   ],
   "source": [
    "#r \"nuget:Microsoft.Spark,0.12.1\""
   ]
  },
  {
   "cell_type": "markdown",
   "metadata": {},
   "source": [
    "## Import packages"
   ]
  },
  {
   "cell_type": "code",
   "execution_count": 2,
   "metadata": {},
   "outputs": [],
   "source": [
    "open Microsoft.Spark\n",
    "open Microsoft.Spark.Sql"
   ]
  },
  {
   "cell_type": "markdown",
   "metadata": {},
   "source": [
    "## Define data directory"
   ]
  },
  {
   "cell_type": "code",
   "execution_count": 3,
   "metadata": {},
   "outputs": [],
   "source": [
    "let DATA_DIR = \"/datadrive/Data/Kaggle/arxiv-metadata-oai-snapshot-2020-08-14.json\""
   ]
  },
  {
   "cell_type": "markdown",
   "metadata": {},
   "source": [
    "## Initialize SparkSession"
   ]
  },
  {
   "cell_type": "code",
   "execution_count": 4,
   "metadata": {},
   "outputs": [
    {
     "name": "stdout",
     "output_type": "stream",
     "text": [
      "[2020-10-19T14:23:16.5259043Z] [fsharp-analytics-vm] [Info] [ConfigurationService] 'DOTNETBACKEND_PORT' environment variable is not set.\n",
      "[2020-10-19T14:23:16.5302790Z] [fsharp-analytics-vm] [Info] [ConfigurationService] Using port 5567 for connection.\n",
      "[2020-10-19T14:23:16.5309461Z] [fsharp-analytics-vm] [Info] [JvmBridge] JvMBridge port is 5567\n"
     ]
    }
   ],
   "source": [
    "let sparkSession = \n",
    "    SparkSession\n",
    "        .Builder()\n",
    "        .AppName(\"arxiv-analytics\")\n",
    "        .GetOrCreate()"
   ]
  },
  {
   "cell_type": "markdown",
   "metadata": {},
   "source": [
    "## Load data into DataFrame"
   ]
  },
  {
   "cell_type": "code",
   "execution_count": 5,
   "metadata": {},
   "outputs": [],
   "source": [
    "let arxivData = \n",
    "    sparkSession\n",
    "        .Read()\n",
    "        .Option(\"inferSchema\",true)\n",
    "        .Json([|DATA_DIR|])"
   ]
  },
  {
   "cell_type": "markdown",
   "metadata": {},
   "source": [
    "## Get article categories in dataset"
   ]
  },
  {
   "cell_type": "code",
   "execution_count": 6,
   "metadata": {},
   "outputs": [],
   "source": [
    "let categories = \n",
    "    arxivData\n",
    "        .Select(Functions.Col(\"id\"),Functions.Col(\"categories\").Alias(\"categories\"))\n",
    "        .GroupBy(Functions.Col(\"id\"), Functions.Col(\"categories\"))\n",
    "        .Count()\n",
    "        .OrderBy(Functions.Col(\"count\").Desc())"
   ]
  },
  {
   "cell_type": "markdown",
   "metadata": {},
   "source": [
    "## Flatten articles containing multiple categories"
   ]
  },
  {
   "cell_type": "code",
   "execution_count": 25,
   "metadata": {},
   "outputs": [],
   "source": [
    "let flattenedCategories = \n",
    "    categories\n",
    "        .Select(Functions.Col(\"id\"), Functions.Split(Functions.Col(\"categories\"),\" \").Alias(\"multiplecategories\"))\n",
    "        .Select(Functions.Col(\"id\"), Functions.Explode(Functions.Col(\"multiplecategories\")).Alias(\"category\"))\n",
    "        .GroupBy(Functions.Col(\"id\"),Functions.Col(\"category\"))\n",
    "        .Count()\n",
    "        .OrderBy(Functions.Col(\"count\").Desc())"
   ]
  },
  {
   "cell_type": "markdown",
   "metadata": {},
   "source": [
    "## Drop duplicate articles"
   ]
  },
  {
   "cell_type": "code",
   "execution_count": 26,
   "metadata": {},
   "outputs": [],
   "source": [
    "let flattenedDistinctCategories = \n",
    "    flattenedCategories\n",
    "        .DropDuplicates(\"id\")"
   ]
  },
  {
   "cell_type": "markdown",
   "metadata": {},
   "source": [
    "## Aggregate distinct article categories"
   ]
  },
  {
   "cell_type": "code",
   "execution_count": 27,
   "metadata": {},
   "outputs": [],
   "source": [
    "let flattenedCategoryCounts =\n",
    "    flattenedDistinctCategories\n",
    "        .Select(Functions.Col(\"id\"),Functions.Col(\"category\"))\n",
    "        .GroupBy(Functions.Col(\"category\"))\n",
    "        .Count()\n",
    "        .OrderBy(Functions.Col(\"count\").Desc())"
   ]
  },
  {
   "cell_type": "code",
   "execution_count": 29,
   "metadata": {},
   "outputs": [
    {
     "name": "stdout",
     "output_type": "stream",
     "text": [
      "+--------+------+\n",
      "|category| count|\n",
      "+--------+------+\n",
      "|  hep-ph|105482|\n",
      "|astro-ph| 94315|\n",
      "|  hep-th| 85276|\n",
      "|quant-ph| 73608|\n",
      "|   gr-qc| 48521|\n",
      "+--------+------+\n",
      "only showing top 5 rows\n",
      "\n"
     ]
    }
   ],
   "source": [
    "flattenedCategoryCounts.Show(5)"
   ]
  },
  {
   "cell_type": "code",
   "execution_count": 30,
   "metadata": {},
   "outputs": [
    {
     "name": "stdout",
     "output_type": "stream",
     "text": [
      "+------------------------+\n",
      "|count(DISTINCT category)|\n",
      "+------------------------+\n",
      "|                     176|\n",
      "+------------------------+\n",
      "\n"
     ]
    }
   ],
   "source": [
    "flattenedCategoryCounts\n",
    "    .Agg(Functions.CountDistinct(Functions.Col(\"category\")))\n",
    "    .Show()"
   ]
  },
  {
   "cell_type": "code",
   "execution_count": 31,
   "metadata": {},
   "outputs": [
    {
     "name": "stdout",
     "output_type": "stream",
     "text": [
      "+----------+\n",
      "|sum(count)|\n",
      "+----------+\n",
      "|   1747307|\n",
      "+----------+\n",
      "\n"
     ]
    }
   ],
   "source": [
    "flattenedCategoryCounts\n",
    "    .Agg(Functions.Sum(Functions.Col(\"count\")))\n",
    "    .Show()"
   ]
  },
  {
   "cell_type": "code",
   "execution_count": 33,
   "metadata": {},
   "outputs": [
    {
     "name": "stdout",
     "output_type": "stream",
     "text": [
      "+-------+--------+------------------+\n",
      "|summary|category|             count|\n",
      "+-------+--------+------------------+\n",
      "|  count|     176|               176|\n",
      "|   mean|    null| 9927.880681818182|\n",
      "| stddev|    null|15881.645753239685|\n",
      "|    min|acc-phys|                 7|\n",
      "|    max|supr-con|            105482|\n",
      "+-------+--------+------------------+\n",
      "\n"
     ]
    }
   ],
   "source": [
    "flattenedCategoryCounts.Describe().Show()"
   ]
  },
  {
   "cell_type": "code",
   "execution_count": 35,
   "metadata": {},
   "outputs": [],
   "source": [
    "let top20Categories = \n",
    "    flattenedCategoryCounts\n",
    "        .Limit(20)"
   ]
  },
  {
   "cell_type": "code",
   "execution_count": 41,
   "metadata": {},
   "outputs": [],
   "source": [
    "let categoriesIEnumerable = flattenedCategoryCounts.Collect()"
   ]
  },
  {
   "cell_type": "code",
   "execution_count": 42,
   "metadata": {},
   "outputs": [],
   "source": [
    "let categoryName = \n",
    "    flattenedCategoryCounts\n",
    "        .Select(Functions.Col(\"category\"))\n",
    "        .Collect()\n",
    "        |> Seq.map(fun row -> row.[0].ToString())"
   ]
  },
  {
   "cell_type": "code",
   "execution_count": 49,
   "metadata": {},
   "outputs": [],
   "source": [
    "let categoryCount = \n",
    "    flattenedCategoryCounts\n",
    "        .Select(Functions.Col(\"count\"))\n",
    "        .Collect()\n",
    "        |> Seq.map(fun row -> row.[0].ToString() |> Int32.Parse)"
   ]
  },
  {
   "cell_type": "markdown",
   "metadata": {},
   "source": [
    "## Plot categories"
   ]
  },
  {
   "cell_type": "code",
   "execution_count": 50,
   "metadata": {},
   "outputs": [],
   "source": [
    "#r \"nuget:XPlot.Plotly\""
   ]
  },
  {
   "cell_type": "code",
   "execution_count": 51,
   "metadata": {},
   "outputs": [],
   "source": [
    "open XPlot\n",
    "open XPlot.Plotly"
   ]
  },
  {
   "cell_type": "code",
   "execution_count": 52,
   "metadata": {},
   "outputs": [],
   "source": [
    "let trace =\n",
    "    Bar(\n",
    "        x = categoryName,\n",
    "        y = categoryCount,\n",
    "        name= \"ArXiv Categories\"            \n",
    "    )"
   ]
  },
  {
   "cell_type": "code",
   "execution_count": 53,
   "metadata": {},
   "outputs": [],
   "source": [
    "let layout = Layout(title = \"Basic Bar Chart\")"
   ]
  },
  {
   "cell_type": "code",
   "execution_count": 54,
   "metadata": {},
   "outputs": [
    {
     "data": {
      "text/html": [
       "<div id=\"8e426ccd-b8f4-4588-9308-7d57946a5e43\" style=\"width: 700px; height: 500px;\"></div>\r\n",
       "<script type=\"text/javascript\">\n",
       "\r\n",
       "var renderPlotly = function() {\r\n",
       "    var xplotRequire = require.config({context:'xplot-3.0.1',paths:{plotly:'https://cdn.plot.ly/plotly-1.49.2.min'}}) || require;\r\n",
       "    xplotRequire(['plotly'], function(Plotly) {\n",
       "\n",
       "            var data = [{\"type\":\"bar\",\"x\":[\"hep-ph\",\"astro-ph\",\"hep-th\",\"quant-ph\",\"gr-qc\",\"cond-mat.mes-hall\",\"cond-mat.mtrl-sci\",\"cond-mat.str-el\",\"cond-mat.stat-mech\",\"cs.CV\",\"astro-ph.CO\",\"astro-ph.SR\",\"math.CO\",\"math.AP\",\"astro-ph.GA\",\"nucl-th\",\"hep-ex\",\"math.PR\",\"math.AG\",\"astro-ph.HE\",\"cs.LG\",\"cond-mat.supr-con\",\"math.NT\",\"math.DG\",\"physics.optics\",\"math.MP\",\"math-ph\",\"cond-mat.soft\",\"stat.ML\",\"math.OC\",\"math.DS\",\"math.FA\",\"hep-lat\",\"math.NA\",\"astro-ph.EP\",\"cs.CL\",\"math.IT\",\"cs.IT\",\"cs.AI\",\"nucl-ex\",\"math.GT\",\"math.CA\",\"math.RT\",\"astro-ph.IM\",\"cond-mat\",\"physics.flu-dyn\",\"math.GR\",\"cs.NI\",\"cond-mat.dis-nn\",\"physics.atom-ph\",\"cs.DS\",\"cs.CR\",\"stat.ME\",\"cond-mat.quant-gas\",\"physics.ins-det\",\"math.RA\",\"math.CV\",\"physics.soc-ph\",\"cond-mat.other\",\"math.QA\",\"physics.chem-ph\",\"physics.gen-ph\",\"cs.DC\",\"physics.plasm-ph\",\"nlin.CD\",\"cs.LO\",\"math.LO\",\"cs.SY\",\"physics.comp-ph\",\"math.AT\",\"cs.RO\",\"stat.AP\",\"math.AC\",\"math.ST\",\"math.OA\",\"stat.TH\",\"cs.SE\",\"cs.SI\",\"eess.SP\",\"cs.CY\",\"q-bio.PE\",\"physics.bio-ph\",\"nlin.SI\",\"physics.app-ph\",\"math.MG\",\"cs.DM\",\"physics.acc-ph\",\"cs.IR\",\"cs.GT\",\"cs.NE\",\"nlin.PS\",\"cs.CC\",\"physics.class-ph\",\"math.SG\",\"cs.HC\",\"q-bio.NC\",\"cs.DB\",\"math.SP\",\"cs.NA\",\"physics.data-an\",\"cs.PL\",\"q-bio.QM\",\"math.CT\",\"eess.IV\",\"cs.CG\",\"math.GM\",\"physics.geo-ph\",\"stat.CO\",\"math.GN\",\"nlin.AO\",\"physics.med-ph\",\"math.KT\",\"physics.ao-ph\",\"cs.DL\",\"physics.hist-ph\",\"q-bio.BM\",\"physics.ed-ph\",\"physics.space-ph\",\"cs.FL\",\"cs.CE\",\"math.HO\",\"cs.SD\",\"cs.OH\",\"q-bio.MN\",\"cs.MA\",\"eess.SY\",\"cs.MM\",\"eess.AS\",\"q-bio.GN\",\"cs.GR\",\"q-fin.ST\",\"cs.AR\",\"physics.atm-clus\",\"cs.ET\",\"cs.PF\",\"q-fin.GN\",\"physics.pop-ph\",\"chao-dyn\",\"cs.SC\",\"q-fin.PR\",\"q-bio.TO\",\"q-bio.CB\",\"q-fin.MF\",\"q-fin.RM\",\"econ.EM\",\"cs.MS\",\"q-fin.CP\",\"q-bio.SC\",\"q-fin.EC\",\"q-fin.TR\",\"q-fin.PM\",\"q-alg\",\"alg-geom\",\"nlin.CG\",\"q-bio.OT\",\"q-bio\",\"stat.OT\",\"solv-int\",\"cmp-lg\",\"cs.OS\",\"econ.GN\",\"econ.TH\",\"dg-ga\",\"patt-sol\",\"adap-org\",\"funct-an\",\"mtrl-th\",\"cs.GL\",\"chem-ph\",\"comp-gas\",\"supr-con\",\"atom-ph\",\"acc-phys\",\"plasm-ph\",\"ao-sci\",\"bayes-an\"],\"y\":[105482,94315,85276,73608,48521,47404,45916,38075,34181,32269,32191,32099,31699,31030,30832,29428,27074,26945,26733,26454,25969,24083,22156,20970,19954,19943,19942,19401,17307,16995,16440,15250,14903,14416,14141,13627,13406,13394,13311,12116,11549,11548,11433,11400,11345,11070,10752,10119,9979,9859,9825,9753,9350,9161,8604,8389,8357,7984,7970,7874,7669,7605,7578,7536,7150,6981,6944,6766,6694,6692,6482,6370,6348,5888,5880,5776,5712,5681,5647,5134,4848,4835,4712,4684,4668,4630,4487,4151,4151,4089,4080,4062,3917,3790,3692,3576,3559,3546,3372,3348,3182,3134,3127,3039,2841,2648,2613,2572,2515,2466,2399,2314,2218,2146,2079,2066,2026,2000,1973,1936,1821,1774,1769,1594,1574,1547,1430,1401,1331,1327,1302,1202,1183,1180,1160,1159,994,975,938,884,881,841,826,812,762,729,720,715,680,636,630,621,616,610,604,528,488,462,442,380,349,346,305,248,191,151,117,116,101,89,69,44,21,13,11,7],\"name\":\"ArXiv Categories\"}];\n",
       "            var layout = {\"title\":\"Basic Bar Chart\"};\n",
       "            Plotly.newPlot('8e426ccd-b8f4-4588-9308-7d57946a5e43', data, layout);\n",
       "        \n",
       "});\r\n",
       "};\r\n",
       "if ((typeof(require) !==  typeof(Function)) || (typeof(require.config) !== typeof(Function))) {\r\n",
       "    var script = document.createElement(\"script\"); \r\n",
       "    script.setAttribute(\"src\", \"https://cdnjs.cloudflare.com/ajax/libs/require.js/2.3.6/require.min.js\");\r\n",
       "    script.onload = function(){\r\n",
       "        renderPlotly();\r\n",
       "    };\r\n",
       "    document.getElementsByTagName(\"head\")[0].appendChild(script); \r\n",
       "}\r\n",
       "else {\r\n",
       "    renderPlotly();\r\n",
       "}\n",
       "</script>\n"
      ]
     },
     "execution_count": 54,
     "metadata": {},
     "output_type": "execute_result"
    }
   ],
   "source": [
    "[trace]\n",
    "|> Chart.Plot\n",
    "|> Chart.WithLayout layout\n",
    "|> Chart.WithHeight 500\n",
    "|> Chart.WithWidth 700"
   ]
  }
 ],
 "metadata": {
  "kernelspec": {
   "display_name": ".NET (F#)",
   "language": "F#",
   "name": ".net-fsharp"
  },
  "language_info": {
   "file_extension": ".fs",
   "mimetype": "text/x-fsharp",
   "name": "C#",
   "pygments_lexer": "fsharp",
   "version": "4.5"
  }
 },
 "nbformat": 4,
 "nbformat_minor": 4
}
