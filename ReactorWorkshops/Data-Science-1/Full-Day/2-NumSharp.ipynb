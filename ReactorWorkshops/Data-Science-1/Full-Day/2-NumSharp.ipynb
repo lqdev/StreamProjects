{
 "cells": [
  {
   "cell_type": "markdown",
   "metadata": {},
   "source": [
    "# Introduction to NumSharp\n",
    "\n",
    "NumSharp is an implementation of NumPy in .NET\n",
    "\n",
    "https://github.com/SciSharp/NumSharp"
   ]
  },
  {
   "cell_type": "code",
   "execution_count": 1,
   "metadata": {},
   "outputs": [],
   "source": [
    "#r \"nuget:NumSharp\""
   ]
  },
  {
   "cell_type": "code",
   "execution_count": 2,
   "metadata": {},
   "outputs": [
    {
     "data": {
      "text/html": [
       "Installed package NumSharp version *"
      ]
     },
     "metadata": {},
     "output_type": "display_data"
    },
    {
     "ename": "Unhandled exception",
     "evalue": "System.ArgumentNullException: Value cannot be null. (Parameter 'directory')\r\n   at Microsoft.DotNet.Interactive.CompositeKernelExtensionLoader.LoadFromDirectoryAsync(DirectoryInfo directory, CompositeKernel kernel, KernelInvocationContext context)\r\n   at Microsoft.DotNet.Interactive.CompositeKernel.LoadExtensionsFromDirectory(DirectoryInfo directory, KernelInvocationContext context)\r\n   at Microsoft.DotNet.Interactive.Commands.LoadExtensionsInDirectory.InvokeAsync(KernelInvocationContext context)\r\n   at Microsoft.DotNet.Interactive.CompositeKernel.HandleAsync(IKernelCommand command, KernelInvocationContext context)\r\n   at Microsoft.DotNet.Interactive.KernelCommandPipeline.<BuildPipeline>b__6_0(IKernelCommand command, KernelInvocationContext context, KernelPipelineContinuation _)\r\n   at Microsoft.DotNet.Interactive.KernelBase.<AddSetKernelMiddleware>b__9_0(IKernelCommand command, KernelInvocationContext context, KernelPipelineContinuation next)\r\n   at Microsoft.DotNet.Interactive.KernelCommandPipeline.SendAsync(IKernelCommand command, KernelInvocationContext context)",
     "output_type": "error",
     "traceback": [
      "System.ArgumentNullException: Value cannot be null. (Parameter 'directory')\r\n   at Microsoft.DotNet.Interactive.CompositeKernelExtensionLoader.LoadFromDirectoryAsync(DirectoryInfo directory, CompositeKernel kernel, KernelInvocationContext context)\r\n   at Microsoft.DotNet.Interactive.CompositeKernel.LoadExtensionsFromDirectory(DirectoryInfo directory, KernelInvocationContext context)\r\n   at Microsoft.DotNet.Interactive.Commands.LoadExtensionsInDirectory.InvokeAsync(KernelInvocationContext context)\r\n   at Microsoft.DotNet.Interactive.CompositeKernel.HandleAsync(IKernelCommand command, KernelInvocationContext context)\r\n   at Microsoft.DotNet.Interactive.KernelCommandPipeline.<BuildPipeline>b__6_0(IKernelCommand command, KernelInvocationContext context, KernelPipelineContinuation _)\r\n   at Microsoft.DotNet.Interactive.KernelBase.<AddSetKernelMiddleware>b__9_0(IKernelCommand command, KernelInvocationContext context, KernelPipelineContinuation next)\r\n   at Microsoft.DotNet.Interactive.KernelCommandPipeline.SendAsync(IKernelCommand command, KernelInvocationContext context)",
      "   at Microsoft.DotNet.Interactive.CompositeKernelExtensionLoader.LoadFromDirectoryAsync(DirectoryInfo directory, CompositeKernel kernel, KernelInvocationContext context)",
      "   at Microsoft.DotNet.Interactive.CompositeKernel.LoadExtensionsFromDirectory(DirectoryInfo directory, KernelInvocationContext context)",
      "   at Microsoft.DotNet.Interactive.Commands.LoadExtensionsInDirectory.InvokeAsync(KernelInvocationContext context)",
      "   at Microsoft.DotNet.Interactive.CompositeKernel.HandleAsync(IKernelCommand command, KernelInvocationContext context)",
      "   at Microsoft.DotNet.Interactive.KernelCommandPipeline.<BuildPipeline>b__6_0(IKernelCommand command, KernelInvocationContext context, KernelPipelineContinuation _)",
      "   at Microsoft.DotNet.Interactive.KernelBase.<AddSetKernelMiddleware>b__9_0(IKernelCommand command, KernelInvocationContext context, KernelPipelineContinuation next)",
      "   at Microsoft.DotNet.Interactive.KernelCommandPipeline.SendAsync(IKernelCommand command, KernelInvocationContext context)"
     ]
    }
   ],
   "source": [
    "open NumSharp"
   ]
  },
  {
   "cell_type": "markdown",
   "metadata": {},
   "source": [
    "## Create NumSharp Array"
   ]
  },
  {
   "cell_type": "code",
   "execution_count": 3,
   "metadata": {},
   "outputs": [
    {
     "data": {
      "text/html": [
       "<table><thead><tr><th><i>index</i></th><th>value</th></tr></thead><tbody><tr><td>0</td><td>1</td></tr><tr><td>1</td><td>4</td></tr><tr><td>2</td><td>2</td></tr><tr><td>3</td><td>5</td></tr><tr><td>4</td><td>3</td></tr></tbody></table>"
      ]
     },
     "execution_count": 3,
     "metadata": {},
     "output_type": "execute_result"
    }
   ],
   "source": [
    "np.array([1;4;2;5;3])"
   ]
  },
  {
   "cell_type": "code",
   "execution_count": 4,
   "metadata": {},
   "outputs": [
    {
     "data": {
      "text/html": [
       "<table><thead><tr><th><i>index</i></th><th>value</th></tr></thead><tbody><tr><td>0</td><td>1</td></tr><tr><td>1</td><td>2</td></tr><tr><td>2</td><td>3</td></tr><tr><td>3</td><td>4</td></tr></tbody></table>"
      ]
     },
     "execution_count": 4,
     "metadata": {},
     "output_type": "execute_result"
    }
   ],
   "source": [
    "np.array([|1;2;3;4|],dtype=Type.GetType(\"System.Single\"))"
   ]
  },
  {
   "cell_type": "code",
   "execution_count": 5,
   "metadata": {},
   "outputs": [],
   "source": [
    "let x = np.array([|for i in [2..2..6] -> [|i..i+3|]|])"
   ]
  },
  {
   "cell_type": "code",
   "execution_count": 6,
   "metadata": {},
   "outputs": [
    {
     "data": {
      "text/html": [
       "<table><thead><tr><th><i>index</i></th><th>value</th></tr></thead><tbody><tr><td>0</td><td>3</td></tr><tr><td>1</td><td>4</td></tr></tbody></table>"
      ]
     },
     "execution_count": 6,
     "metadata": {},
     "output_type": "execute_result"
    }
   ],
   "source": [
    "x.Shape.Dimensions"
   ]
  },
  {
   "cell_type": "code",
   "execution_count": 7,
   "metadata": {},
   "outputs": [
    {
     "data": {
      "text/html": [
       "<table><thead><tr><th><i>index</i></th><th>value</th></tr></thead><tbody><tr><td>0</td><td>0</td></tr><tr><td>1</td><td>0</td></tr><tr><td>2</td><td>0</td></tr><tr><td>3</td><td>0</td></tr><tr><td>4</td><td>0</td></tr><tr><td>5</td><td>0</td></tr><tr><td>6</td><td>0</td></tr><tr><td>7</td><td>0</td></tr><tr><td>8</td><td>0</td></tr><tr><td>9</td><td>0</td></tr></tbody></table>"
      ]
     },
     "execution_count": 7,
     "metadata": {},
     "output_type": "execute_result"
    }
   ],
   "source": [
    "np.zeros(10)"
   ]
  },
  {
   "cell_type": "code",
   "execution_count": 8,
   "metadata": {},
   "outputs": [
    {
     "data": {
      "text/html": [
       "<table><thead><tr><th><i>index</i></th><th>value</th></tr></thead><tbody><tr><td>0</td><td>1</td></tr><tr><td>1</td><td>1</td></tr><tr><td>2</td><td>1</td></tr><tr><td>3</td><td>1</td></tr><tr><td>4</td><td>1</td></tr><tr><td>5</td><td>1</td></tr><tr><td>6</td><td>1</td></tr><tr><td>7</td><td>1</td></tr><tr><td>8</td><td>1</td></tr><tr><td>9</td><td>1</td></tr><tr><td>10</td><td>1</td></tr><tr><td>11</td><td>1</td></tr><tr><td>12</td><td>1</td></tr><tr><td>13</td><td>1</td></tr><tr><td>14</td><td>1</td></tr></tbody></table>"
      ]
     },
     "execution_count": 8,
     "metadata": {},
     "output_type": "execute_result"
    }
   ],
   "source": [
    "np.ones([|3;5|])"
   ]
  },
  {
   "cell_type": "code",
   "execution_count": 9,
   "metadata": {},
   "outputs": [
    {
     "data": {
      "text/html": [
       "<table><thead><tr><th><i>index</i></th><th>value</th></tr></thead><tbody><tr><td>0</td><td>1</td></tr><tr><td>1</td><td>1</td></tr><tr><td>2</td><td>1</td></tr><tr><td>3</td><td>1</td></tr><tr><td>4</td><td>1</td></tr><tr><td>5</td><td>1</td></tr><tr><td>6</td><td>1</td></tr><tr><td>7</td><td>1</td></tr><tr><td>8</td><td>1</td></tr><tr><td>9</td><td>1</td></tr><tr><td>10</td><td>1</td></tr><tr><td>11</td><td>1</td></tr><tr><td>12</td><td>1</td></tr><tr><td>13</td><td>1</td></tr><tr><td>14</td><td>1</td></tr></tbody></table>"
      ]
     },
     "execution_count": 9,
     "metadata": {},
     "output_type": "execute_result"
    }
   ],
   "source": [
    "np.ones(Type.GetType(\"System.Single\"),[|3;5|])"
   ]
  },
  {
   "cell_type": "code",
   "execution_count": 10,
   "metadata": {},
   "outputs": [
    {
     "data": {
      "text/html": [
       "<table><thead><tr><th><i>index</i></th><th>value</th></tr></thead><tbody><tr><td>0</td><td>3.14</td></tr><tr><td>1</td><td>3.14</td></tr><tr><td>2</td><td>3.14</td></tr><tr><td>3</td><td>3.14</td></tr><tr><td>4</td><td>3.14</td></tr><tr><td>5</td><td>3.14</td></tr><tr><td>6</td><td>3.14</td></tr><tr><td>7</td><td>3.14</td></tr><tr><td>8</td><td>3.14</td></tr><tr><td>9</td><td>3.14</td></tr><tr><td>10</td><td>3.14</td></tr><tr><td>11</td><td>3.14</td></tr><tr><td>12</td><td>3.14</td></tr><tr><td>13</td><td>3.14</td></tr><tr><td>14</td><td>3.14</td></tr></tbody></table>"
      ]
     },
     "execution_count": 10,
     "metadata": {},
     "output_type": "execute_result"
    }
   ],
   "source": [
    "np.full(3.14,[|3;5|])"
   ]
  },
  {
   "cell_type": "code",
   "execution_count": 12,
   "metadata": {},
   "outputs": [
    {
     "data": {
      "text/html": [
       "<table><thead><tr><th><i>index</i></th><th>value</th></tr></thead><tbody><tr><td>0</td><td>0</td></tr><tr><td>1</td><td>2</td></tr><tr><td>2</td><td>4</td></tr><tr><td>3</td><td>6</td></tr><tr><td>4</td><td>8</td></tr><tr><td>5</td><td>10</td></tr><tr><td>6</td><td>12</td></tr><tr><td>7</td><td>14</td></tr><tr><td>8</td><td>16</td></tr><tr><td>9</td><td>18</td></tr></tbody></table>"
      ]
     },
     "execution_count": 12,
     "metadata": {},
     "output_type": "execute_result"
    }
   ],
   "source": [
    "np.arange(0,20,2)"
   ]
  },
  {
   "cell_type": "code",
   "execution_count": 13,
   "metadata": {},
   "outputs": [
    {
     "data": {
      "text/html": [
       "<table><thead><tr><th><i>index</i></th><th>value</th></tr></thead><tbody><tr><td>0</td><td>0</td></tr><tr><td>1</td><td>2</td></tr><tr><td>2</td><td>4</td></tr><tr><td>3</td><td>6</td></tr><tr><td>4</td><td>8</td></tr><tr><td>5</td><td>10</td></tr><tr><td>6</td><td>12</td></tr><tr><td>7</td><td>14</td></tr><tr><td>8</td><td>16</td></tr><tr><td>9</td><td>18</td></tr><tr><td>10</td><td>20</td></tr></tbody></table>"
      ]
     },
     "execution_count": 13,
     "metadata": {},
     "output_type": "execute_result"
    }
   ],
   "source": [
    "[0..2..20]"
   ]
  },
  {
   "cell_type": "code",
   "execution_count": 15,
   "metadata": {},
   "outputs": [
    {
     "data": {
      "text/html": [
       "<table><thead><tr><th><i>index</i></th><th>value</th></tr></thead><tbody><tr><td>0</td><td>0</td></tr><tr><td>1</td><td>0.25</td></tr><tr><td>2</td><td>0.5</td></tr><tr><td>3</td><td>0.75</td></tr><tr><td>4</td><td>1</td></tr></tbody></table>"
      ]
     },
     "execution_count": 15,
     "metadata": {},
     "output_type": "execute_result"
    }
   ],
   "source": [
    "np.linspace(0.,1.,5)"
   ]
  },
  {
   "cell_type": "code",
   "execution_count": 24,
   "metadata": {},
   "outputs": [
    {
     "data": {
      "text/html": [
       "<table><thead><tr><th><i>index</i></th><th>value</th></tr></thead><tbody><tr><td>0</td><td>0.7294927317320801</td></tr><tr><td>1</td><td>0.016973958358622136</td></tr><tr><td>2</td><td>0.2914943393745899</td></tr><tr><td>3</td><td>0.46916264084594445</td></tr><tr><td>4</td><td>0.45574741878348746</td></tr><tr><td>5</td><td>0.10680392389502559</td></tr><tr><td>6</td><td>0.20430782633102865</td></tr><tr><td>7</td><td>0.7790769463307583</td></tr><tr><td>8</td><td>0.7733278534250929</td></tr></tbody></table>"
      ]
     },
     "execution_count": 24,
     "metadata": {},
     "output_type": "execute_result"
    }
   ],
   "source": [
    "np.random.rand([|3;3|])"
   ]
  },
  {
   "cell_type": "code",
   "execution_count": 26,
   "metadata": {},
   "outputs": [
    {
     "data": {
      "text/html": [
       "<table><thead><tr><th><i>index</i></th><th>value</th></tr></thead><tbody><tr><td>0</td><td>-0.03797390701573093</td></tr><tr><td>1</td><td>-0.6997115965891567</td></tr><tr><td>2</td><td>-1.4745718783173387</td></tr><tr><td>3</td><td>0.6136361071202016</td></tr><tr><td>4</td><td>1.3485735682319657</td></tr><tr><td>5</td><td>1.707570886960967</td></tr><tr><td>6</td><td>0.2996285414404452</td></tr><tr><td>7</td><td>-0.7212588695603677</td></tr><tr><td>8</td><td>0.04536048134782769</td></tr></tbody></table>"
      ]
     },
     "execution_count": 26,
     "metadata": {},
     "output_type": "execute_result"
    }
   ],
   "source": [
    "np.random.normal(0.,1.,[|3;3|])"
   ]
  },
  {
   "cell_type": "code",
   "execution_count": 27,
   "metadata": {},
   "outputs": [
    {
     "data": {
      "text/html": [
       "<table><thead><tr><th><i>index</i></th><th>value</th></tr></thead><tbody><tr><td>0</td><td>1</td></tr><tr><td>1</td><td>0</td></tr><tr><td>2</td><td>0</td></tr><tr><td>3</td><td>0</td></tr><tr><td>4</td><td>1</td></tr><tr><td>5</td><td>0</td></tr><tr><td>6</td><td>0</td></tr><tr><td>7</td><td>0</td></tr><tr><td>8</td><td>1</td></tr></tbody></table>"
      ]
     },
     "execution_count": 27,
     "metadata": {},
     "output_type": "execute_result"
    }
   ],
   "source": [
    "np.eye(3)"
   ]
  },
  {
   "cell_type": "code",
   "execution_count": 28,
   "metadata": {},
   "outputs": [
    {
     "data": {
      "text/html": [
       "<table><thead><tr><th><i>index</i></th><th>value</th></tr></thead><tbody><tr><td>0</td><td>4.929770317299003E+204</td></tr><tr><td>1</td><td>1.398105350902626E-76</td></tr><tr><td>2</td><td>6.465782800700967E+170</td></tr></tbody></table>"
      ]
     },
     "execution_count": 28,
     "metadata": {},
     "output_type": "execute_result"
    }
   ],
   "source": [
    "np.empty(3)"
   ]
  },
  {
   "cell_type": "markdown",
   "metadata": {},
   "source": [
    "## Working with NumSharp Arrays: The basics"
   ]
  },
  {
   "cell_type": "code",
   "execution_count": 30,
   "metadata": {},
   "outputs": [
    {
     "data": {
      "text/html": [
       "<null>"
      ]
     },
     "execution_count": 30,
     "metadata": {},
     "output_type": "execute_result"
    }
   ],
   "source": [
    "np.random.seed(0)"
   ]
  },
  {
   "cell_type": "code",
   "execution_count": 52,
   "metadata": {},
   "outputs": [],
   "source": [
    "let a1 = np.random.randint(int64(10),size=Shape(6)) // 1D Array"
   ]
  },
  {
   "cell_type": "code",
   "execution_count": 60,
   "metadata": {},
   "outputs": [],
   "source": [
    "let a2 = np.random.randint(int64(10), size=Shape(3, 4)) //2D"
   ]
  },
  {
   "cell_type": "code",
   "execution_count": 61,
   "metadata": {},
   "outputs": [],
   "source": [
    "let a3 = np.random.randint(int64(10), size=new Shape(3, 4, 5))  // 3D array"
   ]
  },
  {
   "cell_type": "code",
   "execution_count": 62,
   "metadata": {},
   "outputs": [
    {
     "name": "stdout",
     "output_type": "stream",
     "text": [
      "1\n",
      "[|6|]\n",
      "6\n",
      "System.Int32\n",
      "2\n",
      "[|3; 4|]\n",
      "12\n",
      "System.Int32\n",
      "3\n",
      "[|3; 4; 5|]\n",
      "60\n",
      "System.Int32\n"
     ]
    },
    {
     "data": {
      "text/html": [
       "<null>"
      ]
     },
     "execution_count": 62,
     "metadata": {},
     "output_type": "execute_result"
    }
   ],
   "source": [
    "[a1;a2;a3]\n",
    "|> List.iter(fun x ->\n",
    "    printfn \"%A\" x.ndim\n",
    "    printfn \"%A\" x.shape\n",
    "    printfn \"%A\" x.size\n",
    "    printfn \"%A\" x.dtype\n",
    ")"
   ]
  },
  {
   "cell_type": "markdown",
   "metadata": {},
   "source": [
    "### Indexing Arrays"
   ]
  },
  {
   "cell_type": "code",
   "execution_count": 63,
   "metadata": {},
   "outputs": [
    {
     "data": {
      "text/html": [
       "<table><thead><tr><th><i>index</i></th><th>value</th></tr></thead><tbody><tr><td>0</td><td>8</td></tr><tr><td>1</td><td>7</td></tr><tr><td>2</td><td>5</td></tr><tr><td>3</td><td>2</td></tr><tr><td>4</td><td>5</td></tr><tr><td>5</td><td>9</td></tr></tbody></table>"
      ]
     },
     "execution_count": 63,
     "metadata": {},
     "output_type": "execute_result"
    }
   ],
   "source": [
    "a1"
   ]
  },
  {
   "cell_type": "code",
   "execution_count": 64,
   "metadata": {},
   "outputs": [
    {
     "data": {
      "text/html": [
       "<table><thead><tr><th><i>index</i></th><th>value</th></tr></thead><tbody><tr><td>0</td><td>8</td></tr></tbody></table>"
      ]
     },
     "execution_count": 64,
     "metadata": {},
     "output_type": "execute_result"
    }
   ],
   "source": [
    "a1.[0]"
   ]
  },
  {
   "cell_type": "code",
   "execution_count": 65,
   "metadata": {},
   "outputs": [
    {
     "data": {
      "text/html": [
       "<table><thead><tr><th><i>index</i></th><th>value</th></tr></thead><tbody><tr><td>0</td><td>5</td></tr></tbody></table>"
      ]
     },
     "execution_count": 65,
     "metadata": {},
     "output_type": "execute_result"
    }
   ],
   "source": [
    "a1.[4]"
   ]
  },
  {
   "cell_type": "code",
   "execution_count": 67,
   "metadata": {},
   "outputs": [
    {
     "data": {
      "text/html": [
       "<table><thead><tr><th><i>index</i></th><th>value</th></tr></thead><tbody><tr><td>0</td><td>9</td></tr></tbody></table>"
      ]
     },
     "execution_count": 67,
     "metadata": {},
     "output_type": "execute_result"
    }
   ],
   "source": [
    "a1.[-1]"
   ]
  },
  {
   "cell_type": "code",
   "execution_count": 71,
   "metadata": {},
   "outputs": [
    {
     "data": {
      "text/html": [
       "<table><thead><tr><th><i>index</i></th><th>value</th></tr></thead><tbody><tr><td>0</td><td>5</td></tr></tbody></table>"
      ]
     },
     "execution_count": 71,
     "metadata": {},
     "output_type": "execute_result"
    }
   ],
   "source": [
    "a1.[-2]"
   ]
  },
  {
   "cell_type": "code",
   "execution_count": 72,
   "metadata": {},
   "outputs": [
    {
     "data": {
      "text/html": [
       "<table><thead><tr><th><i>index</i></th><th>value</th></tr></thead><tbody><tr><td>0</td><td>4</td></tr><tr><td>1</td><td>9</td></tr><tr><td>2</td><td>2</td></tr><tr><td>3</td><td>2</td></tr><tr><td>4</td><td>4</td></tr><tr><td>5</td><td>6</td></tr><tr><td>6</td><td>4</td></tr><tr><td>7</td><td>9</td></tr><tr><td>8</td><td>0</td></tr><tr><td>9</td><td>8</td></tr><tr><td>10</td><td>9</td></tr><tr><td>11</td><td>6</td></tr></tbody></table>"
      ]
     },
     "execution_count": 72,
     "metadata": {},
     "output_type": "execute_result"
    }
   ],
   "source": [
    "a2"
   ]
  },
  {
   "cell_type": "code",
   "execution_count": 73,
   "metadata": {},
   "outputs": [
    {
     "data": {
      "text/html": [
       "<table><thead><tr><th><i>index</i></th><th>value</th></tr></thead><tbody><tr><td>0</td><td>4</td></tr></tbody></table>"
      ]
     },
     "execution_count": 73,
     "metadata": {},
     "output_type": "execute_result"
    }
   ],
   "source": [
    "a2.[0].[0]"
   ]
  },
  {
   "cell_type": "code",
   "execution_count": 74,
   "metadata": {},
   "outputs": [
    {
     "data": {
      "text/html": [
       "<table><thead><tr><th><i>index</i></th><th>value</th></tr></thead><tbody><tr><td>0</td><td>0</td></tr></tbody></table>"
      ]
     },
     "execution_count": 74,
     "metadata": {},
     "output_type": "execute_result"
    }
   ],
   "source": [
    "a2.[2].[0]"
   ]
  },
  {
   "cell_type": "code",
   "execution_count": 75,
   "metadata": {},
   "outputs": [
    {
     "data": {
      "text/html": [
       "<table><thead><tr><th><i>index</i></th><th>value</th></tr></thead><tbody><tr><td>0</td><td>6</td></tr></tbody></table>"
      ]
     },
     "execution_count": 75,
     "metadata": {},
     "output_type": "execute_result"
    }
   ],
   "source": [
    "a2.[2].[-1]"
   ]
  },
  {
   "cell_type": "code",
   "execution_count": 76,
   "metadata": {},
   "outputs": [
    {
     "ename": "Unhandled exception",
     "evalue": "input.fsx (1,1)-(1,17) typecheck error No overloads match for method 'Item'. The available overloads are shown below.\ninput.fsx (1,1)-(1,17) typecheck error Possible overload: 'NDArray.set_Item(mask: Generic.NDArray<bool>, value: NDArray) : unit'. Type constraint mismatch. The type \n    'int'    \nis not compatible with type\n    'Generic.NDArray<bool>'    \n.\ninput.fsx (1,1)-(1,17) typecheck error Possible overload: 'NDArray.set_Item([<ParamArray>] indicesObjects: obj [], value: NDArray) : unit'. Type constraint mismatch. The type \n    'int'    \nis not compatible with type\n    'obj []'    \n.\ninput.fsx (1,1)-(1,17) typecheck error Possible overload: 'NDArray.set_Item([<ParamArray>] slice: Slice [], value: NDArray) : unit'. Type constraint mismatch. The type \n    'int'    \nis not compatible with type\n    'Slice []'    \n.\ninput.fsx (1,1)-(1,17) typecheck error Possible overload: 'NDArray.set_Item(slice: string, value: NDArray) : unit'. Type constraint mismatch. The type \n    'int'    \nis not compatible with type\n    'string'    \n.\ninput.fsx (1,1)-(1,17) typecheck error Possible overload: 'NDArray.set_Item([<ParamArray>] selection: Generic.NDArray<int> [], value: NDArray) : unit'. Type constraint mismatch. The type \n    'int'    \nis not compatible with type\n    'Generic.NDArray<int> []'    \n.",
     "output_type": "error",
     "traceback": [
      "input.fsx (1,1)-(1,17) typecheck error No overloads match for method 'Item'. The available overloads are shown below.\ninput.fsx (1,1)-(1,17) typecheck error Possible overload: 'NDArray.set_Item(mask: Generic.NDArray<bool>, value: NDArray) : unit'. Type constraint mismatch. The type \n    'int'    \nis not compatible with type\n    'Generic.NDArray<bool>'    \n.\ninput.fsx (1,1)-(1,17) typecheck error Possible overload: 'NDArray.set_Item([<ParamArray>] indicesObjects: obj [], value: NDArray) : unit'. Type constraint mismatch. The type \n    'int'    \nis not compatible with type\n    'obj []'    \n.\ninput.fsx (1,1)-(1,17) typecheck error Possible overload: 'NDArray.set_Item([<ParamArray>] slice: Slice [], value: NDArray) : unit'. Type constraint mismatch. The type \n    'int'    \nis not compatible with type\n    'Slice []'    \n.\ninput.fsx (1,1)-(1,17) typecheck error Possible overload: 'NDArray.set_Item(slice: string, value: NDArray) : unit'. Type constraint mismatch. The type \n    'int'    \nis not compatible with type\n    'string'    \n.\ninput.fsx (1,1)-(1,17) typecheck error Possible overload: 'NDArray.set_Item([<ParamArray>] selection: Generic.NDArray<int> [], value: NDArray) : unit'. Type constraint mismatch. The type \n    'int'    \nis not compatible with type\n    'Generic.NDArray<int> []'    \n."
     ]
    }
   ],
   "source": [
    "a2.[0].[0] <- 12"
   ]
  },
  {
   "cell_type": "markdown",
   "metadata": {},
   "source": [
    "### Slicing Arrays"
   ]
  },
  {
   "cell_type": "markdown",
   "metadata": {},
   "source": [
    "Different to NumPy, NumSharp expects slicing done via strings. These strings are then parsed and the appropriate slice is returned."
   ]
  },
  {
   "cell_type": "code",
   "execution_count": 86,
   "metadata": {},
   "outputs": [
    {
     "data": {
      "text/html": [
       "<table><thead><tr><th><i>index</i></th><th>value</th></tr></thead><tbody><tr><td>0</td><td>8</td></tr><tr><td>1</td><td>7</td></tr><tr><td>2</td><td>5</td></tr><tr><td>3</td><td>2</td></tr><tr><td>4</td><td>5</td></tr></tbody></table>"
      ]
     },
     "execution_count": 86,
     "metadata": {},
     "output_type": "execute_result"
    }
   ],
   "source": [
    "a1.[\":5\"]"
   ]
  },
  {
   "cell_type": "code",
   "execution_count": 88,
   "metadata": {},
   "outputs": [
    {
     "data": {
      "text/html": [
       "<table><thead><tr><th><i>index</i></th><th>value</th></tr></thead><tbody><tr><td>0</td><td>9</td></tr></tbody></table>"
      ]
     },
     "execution_count": 88,
     "metadata": {},
     "output_type": "execute_result"
    }
   ],
   "source": [
    "a1.[\"5:\"]"
   ]
  },
  {
   "cell_type": "code",
   "execution_count": 90,
   "metadata": {},
   "outputs": [
    {
     "data": {
      "text/html": [
       "<table><thead><tr><th><i>index</i></th><th>value</th></tr></thead><tbody><tr><td>0</td><td>8</td></tr><tr><td>1</td><td>5</td></tr><tr><td>2</td><td>5</td></tr></tbody></table>"
      ]
     },
     "execution_count": 90,
     "metadata": {},
     "output_type": "execute_result"
    }
   ],
   "source": [
    "a1.[\"::2\"]"
   ]
  },
  {
   "cell_type": "code",
   "execution_count": 91,
   "metadata": {},
   "outputs": [
    {
     "data": {
      "text/html": [
       "<table><thead><tr><th><i>index</i></th><th>value</th></tr></thead><tbody><tr><td>0</td><td>9</td></tr><tr><td>1</td><td>5</td></tr><tr><td>2</td><td>2</td></tr><tr><td>3</td><td>5</td></tr><tr><td>4</td><td>7</td></tr><tr><td>5</td><td>8</td></tr></tbody></table>"
      ]
     },
     "execution_count": 91,
     "metadata": {},
     "output_type": "execute_result"
    }
   ],
   "source": [
    "a1.[\"::-1\"]"
   ]
  },
  {
   "cell_type": "markdown",
   "metadata": {},
   "source": [
    "#### Multidimensional slices"
   ]
  },
  {
   "cell_type": "code",
   "execution_count": 92,
   "metadata": {},
   "outputs": [
    {
     "data": {
      "text/html": [
       "<table><thead><tr><th><i>index</i></th><th>value</th></tr></thead><tbody><tr><td>0</td><td>4</td></tr><tr><td>1</td><td>9</td></tr><tr><td>2</td><td>2</td></tr><tr><td>3</td><td>4</td></tr><tr><td>4</td><td>6</td></tr><tr><td>5</td><td>4</td></tr></tbody></table>"
      ]
     },
     "execution_count": 92,
     "metadata": {},
     "output_type": "execute_result"
    }
   ],
   "source": [
    "a2.[\":2,:3\"]"
   ]
  },
  {
   "cell_type": "code",
   "execution_count": 94,
   "metadata": {},
   "outputs": [
    {
     "data": {
      "text/html": [
       "<table><thead><tr><th><i>index</i></th><th>value</th></tr></thead><tbody><tr><td>0</td><td>4</td></tr><tr><td>1</td><td>2</td></tr><tr><td>2</td><td>4</td></tr><tr><td>3</td><td>4</td></tr><tr><td>4</td><td>0</td></tr><tr><td>5</td><td>9</td></tr></tbody></table>"
      ]
     },
     "execution_count": 94,
     "metadata": {},
     "output_type": "execute_result"
    }
   ],
   "source": [
    "a2.[\":,::2\"]"
   ]
  },
  {
   "cell_type": "code",
   "execution_count": 95,
   "metadata": {},
   "outputs": [
    {
     "data": {
      "text/html": [
       "<table><thead><tr><th><i>index</i></th><th>value</th></tr></thead><tbody><tr><td>0</td><td>6</td></tr><tr><td>1</td><td>9</td></tr><tr><td>2</td><td>8</td></tr><tr><td>3</td><td>0</td></tr><tr><td>4</td><td>9</td></tr><tr><td>5</td><td>4</td></tr><tr><td>6</td><td>6</td></tr><tr><td>7</td><td>4</td></tr><tr><td>8</td><td>2</td></tr><tr><td>9</td><td>2</td></tr><tr><td>10</td><td>9</td></tr><tr><td>11</td><td>4</td></tr></tbody></table>"
      ]
     },
     "execution_count": 95,
     "metadata": {},
     "output_type": "execute_result"
    }
   ],
   "source": [
    "a2.[\"::-1,::-1\"]"
   ]
  },
  {
   "cell_type": "code",
   "execution_count": 100,
   "metadata": {},
   "outputs": [
    {
     "data": {
      "text/html": [
       "<table><thead><tr><th><i>index</i></th><th>value</th></tr></thead><tbody><tr><td>0</td><td>9</td></tr></tbody></table>"
      ]
     },
     "execution_count": 100,
     "metadata": {},
     "output_type": "execute_result"
    }
   ],
   "source": [
    "let a4 = np.arange(1,10)\n",
    "a4.shape"
   ]
  },
  {
   "cell_type": "code",
   "execution_count": 102,
   "metadata": {},
   "outputs": [
    {
     "data": {
      "text/html": [
       "<table><thead><tr><th><i>index</i></th><th>value</th></tr></thead><tbody><tr><td>0</td><td>3</td></tr><tr><td>1</td><td>3</td></tr></tbody></table>"
      ]
     },
     "execution_count": 102,
     "metadata": {},
     "output_type": "execute_result"
    }
   ],
   "source": [
    "let grid = a4.reshape([|3;3|])\n",
    "grid.shape"
   ]
  },
  {
   "cell_type": "code",
   "execution_count": 104,
   "metadata": {},
   "outputs": [
    {
     "data": {
      "text/html": [
       "<table><thead><tr><th><i>index</i></th><th>value</th></tr></thead><tbody><tr><td>0</td><td>1</td></tr><tr><td>1</td><td>2</td></tr><tr><td>2</td><td>3</td></tr></tbody></table>"
      ]
     },
     "execution_count": 104,
     "metadata": {},
     "output_type": "execute_result"
    }
   ],
   "source": [
    "let a5 = np.array([|1;2;3|])\n",
    "a5"
   ]
  },
  {
   "cell_type": "code",
   "execution_count": 107,
   "metadata": {},
   "outputs": [
    {
     "data": {
      "text/html": [
       "<table><thead><tr><th><i>index</i></th><th>value</th></tr></thead><tbody><tr><td>0</td><td>1</td></tr><tr><td>1</td><td>2</td></tr><tr><td>2</td><td>3</td></tr></tbody></table>"
      ]
     },
     "execution_count": 107,
     "metadata": {},
     "output_type": "execute_result"
    }
   ],
   "source": [
    "// Row vector via reshape\n",
    "a5.reshape([|1;3|])"
   ]
  },
  {
   "cell_type": "code",
   "execution_count": 112,
   "metadata": {},
   "outputs": [
    {
     "data": {
      "text/html": [
       "<table><thead><tr><th><i>index</i></th><th>value</th></tr></thead><tbody><tr><td>0</td><td>1</td></tr><tr><td>1</td><td>2</td></tr><tr><td>2</td><td>3</td></tr></tbody></table>"
      ]
     },
     "execution_count": 112,
     "metadata": {},
     "output_type": "execute_result"
    }
   ],
   "source": [
    "// Column Vector\n",
    "a5.reshape([|3;1|])"
   ]
  },
  {
   "cell_type": "markdown",
   "metadata": {},
   "source": [
    "## Joining and splitting arrays"
   ]
  },
  {
   "cell_type": "markdown",
   "metadata": {},
   "source": [
    "### Joining arrays"
   ]
  },
  {
   "cell_type": "code",
   "execution_count": 113,
   "metadata": {},
   "outputs": [],
   "source": [
    "let a = np.array([|1;2;3|])\n",
    "let b = np.array([|3;2;1|])"
   ]
  },
  {
   "cell_type": "code",
   "execution_count": 115,
   "metadata": {},
   "outputs": [
    {
     "data": {
      "text/html": [
       "<table><thead><tr><th><i>index</i></th><th>value</th></tr></thead><tbody><tr><td>0</td><td>1</td></tr><tr><td>1</td><td>2</td></tr><tr><td>2</td><td>3</td></tr><tr><td>3</td><td>3</td></tr><tr><td>4</td><td>2</td></tr><tr><td>5</td><td>1</td></tr></tbody></table>"
      ]
     },
     "execution_count": 115,
     "metadata": {},
     "output_type": "execute_result"
    }
   ],
   "source": [
    "np.concatenate([|a;b|])"
   ]
  },
  {
   "cell_type": "code",
   "execution_count": 121,
   "metadata": {},
   "outputs": [
    {
     "data": {
      "text/html": [
       "<table><thead><tr><th><i>index</i></th><th>value</th></tr></thead><tbody><tr><td>0</td><td>3</td></tr><tr><td>1</td><td>3</td></tr></tbody></table>"
      ]
     },
     "execution_count": 121,
     "metadata": {},
     "output_type": "execute_result"
    }
   ],
   "source": [
    "grid.shape"
   ]
  },
  {
   "cell_type": "code",
   "execution_count": 120,
   "metadata": {},
   "outputs": [
    {
     "data": {
      "text/html": [
       "<table><thead><tr><th><i>index</i></th><th>value</th></tr></thead><tbody><tr><td>0</td><td>6</td></tr><tr><td>1</td><td>3</td></tr></tbody></table>"
      ]
     },
     "execution_count": 120,
     "metadata": {},
     "output_type": "execute_result"
    }
   ],
   "source": [
    "// 2-D Array joining\n",
    "let c = np.concatenate([|grid;grid|])\n",
    "c.shape"
   ]
  },
  {
   "cell_type": "markdown",
   "metadata": {},
   "source": [
    "### Splitting arrays"
   ]
  },
  {
   "cell_type": "code",
   "execution_count": 125,
   "metadata": {},
   "outputs": [
    {
     "ename": "Unhandled exception",
     "evalue": "input.fsx (1,4)-(1,9) typecheck error The field, constructor or member 'split' is not defined.",
     "output_type": "error",
     "traceback": [
      "input.fsx (1,4)-(1,9) typecheck error The field, constructor or member 'split' is not defined."
     ]
    }
   ],
   "source": [
    "np.split()"
   ]
  },
  {
   "cell_type": "code",
   "execution_count": 122,
   "metadata": {},
   "outputs": [],
   "source": [
    "let a = [|1;2;3;99;99;3;2;1|]"
   ]
  },
  {
   "cell_type": "code",
   "execution_count": 123,
   "metadata": {},
   "outputs": [
    {
     "ename": "Unhandled exception",
     "evalue": "input.fsx (1,19)-(1,24) typecheck error The field, constructor or member 'split' is not defined.",
     "output_type": "error",
     "traceback": [
      "input.fsx (1,19)-(1,24) typecheck error The field, constructor or member 'split' is not defined."
     ]
    }
   ],
   "source": [
    "let a1,a2,a3 = np.split(a,[|3,5|])"
   ]
  }
 ],
 "metadata": {
  "kernelspec": {
   "display_name": ".NET (F#)",
   "language": "F#",
   "name": ".net-fsharp"
  },
  "language_info": {
   "file_extension": ".fs",
   "mimetype": "text/x-fsharp",
   "name": "C#",
   "pygments_lexer": "fsharp",
   "version": "4.5"
  }
 },
 "nbformat": 4,
 "nbformat_minor": 2
}
